{
 "cells": [
  {
   "cell_type": "markdown",
   "metadata": {},
   "source": [
    "## Data Preparation"
   ]
  },
  {
   "cell_type": "code",
   "execution_count": 1,
   "metadata": {},
   "outputs": [],
   "source": [
    "import pandas as pd\n",
    "import numpy as np\n",
    "import matplotlib.pyplot as plt"
   ]
  },
  {
   "cell_type": "code",
   "execution_count": 2,
   "metadata": {},
   "outputs": [],
   "source": [
    "df_agent = pd.read_csv('assessment_data/AGENT.csv')\n",
    "df_main = pd.read_csv('assessment_data/MAIN.csv')\n",
    "df_b = pd.read_csv('assessment_data/B.csv')\n",
    "df_c = pd.read_csv('assessment_data/C.csv')  \n",
    "df_d = pd.read_csv('assessment_data/D.csv')\n",
    "df_e = pd.read_csv('assessment_data/E.csv')"
   ]
  },
  {
   "cell_type": "markdown",
   "metadata": {},
   "source": [
    "Since we are only interested in  the Inforceagents under the agency distribution channel. We will filter the agent data first"
   ]
  },
  {
   "cell_type": "code",
   "execution_count": 3,
   "metadata": {},
   "outputs": [
    {
     "name": "stdout",
     "output_type": "stream",
     "text": [
      "4812\n",
      "3231\n"
     ]
    }
   ],
   "source": [
    "print(len(df_agent))\n",
    "df_agent = df_agent[(df_agent['AGT_CHANNEL'] == 'AGENCY') & (df_agent['AGT_STATUS'] == 'INFORCE')]\n",
    "print(len(df_agent))\n",
    "agent_code_list = df_agent['AGT_CD'].unique().tolist()"
   ]
  },
  {
   "cell_type": "code",
   "execution_count": 4,
   "metadata": {},
   "outputs": [
    {
     "name": "stdout",
     "output_type": "stream",
     "text": [
      "598269\n",
      "495854\n"
     ]
    }
   ],
   "source": [
    "#filter out the agents that are inforce and have channel as AGENCY\n",
    "print(len(df_main))\n",
    "df_main = df_main[df_main['AGT_CD'].isin(agent_code_list)]\n",
    "print(len(df_main))"
   ]
  },
  {
   "cell_type": "markdown",
   "metadata": {},
   "source": [
    "Here I Assume LAT == LA Takaful , then we replace the value for joining the table to main"
   ]
  },
  {
   "cell_type": "code",
   "execution_count": 5,
   "metadata": {},
   "outputs": [],
   "source": [
    "df_b['CHAR_VALUE2'] = np.where(df_b['CHAR_VALUE2'] == 'LA TAKAFUL','LAT', df_b['CHAR_VALUE2'])\n",
    "df_d['CHAR_VALUE2'] = np.where(df_d['CHAR_VALUE2'] == 'LA TAKAFUL','LAT', df_d['CHAR_VALUE2'])"
   ]
  },
  {
   "cell_type": "code",
   "execution_count": 6,
   "metadata": {},
   "outputs": [],
   "source": [
    "#rename the column to left join\n",
    "df_main = df_main.rename(columns = {'PRODUCT_CD':'PURPOSE_CODE'})\n",
    "df_main_b = pd.merge(df_main, df_b[['CHAR_VALUE','CHAR_VALUE2','PURPOSE_CODE']], how='left', left_on=['PURPOSE_CODE','S_BASE'], right_on=['PURPOSE_CODE','CHAR_VALUE2'])\n",
    "df_main_b = df_main_b.rename(columns = {'CHAR_VALUE':'CHAR_VALUE_B',\n",
    "                                        'CHAR_VALUE2':'CHAR_VALUE2_B'})\n",
    "#take the one is null\n",
    "df_main_c = pd.merge(df_main_b, df_c[['CHAR_VALUE','PURPOSE_CODE']], how='left', left_on=['PURPOSE_CODE'], right_on=['PURPOSE_CODE'])\n",
    "df_main_c = df_main_c.rename(columns = {'CHAR_VALUE':'CHAR_VALUE_C'})\n",
    "df_main_d = pd.merge(df_main_c, df_d[['CHAR_VALUE','CHAR_VALUE2','PURPOSE_CODE']], how='left', left_on=['PURPOSE_CODE','S_BASE'], right_on=['PURPOSE_CODE','CHAR_VALUE2'])\n",
    "df_main_d = df_main_d.rename(columns = {'CHAR_VALUE':'CHAR_VALUE_D',\n",
    "                                        'CHAR_VALUE2':'CHAR_VALUE2_D'})\n",
    "df_main_e = pd.merge(df_main_d, df_e[['CHAR_VALUE','PURPOSE_CODE']], how='left', left_on=['PURPOSE_CODE'], right_on=['PURPOSE_CODE'])\n",
    "df_main_e = df_main_e.rename(columns = {'CHAR_VALUE':'CHAR_VALUE_E'})"
   ]
  },
  {
   "cell_type": "code",
   "execution_count": 7,
   "metadata": {},
   "outputs": [],
   "source": [
    "df = df_main_e"
   ]
  },
  {
   "cell_type": "code",
   "execution_count": 8,
   "metadata": {},
   "outputs": [],
   "source": [
    "#Get the main need from the main_need sql logic\n",
    "df['MAIN_NEED'] = np.where(df['S_BASE'] == 'POLA', 'Accident',\n",
    "                                np.where(df['CHAR_VALUE_D'].notna(), df['CHAR_VALUE_D'].str.strip(), #D\n",
    "                                         np.where(df['CHAR_VALUE_E'].notna(), df['CHAR_VALUE_E'].str.strip(), #E\n",
    "                                                  np.where((df['CHAR_VALUE_B'].notna()) & (df['CHAR_VALUE_B']!='Medical'), df['CHAR_VALUE_B'].str.strip(), #B\n",
    "                                                           np.where((df['CHAR_VALUE_B'].notna()) & (df['CHAR_VALUE_B']=='Medical'), 'Other Medical', #B\n",
    "                                                                    np.where((df['CHAR_VALUE_C'].notna()) & (df['CHAR_VALUE_C']!='Medical'), df['CHAR_VALUE_C'].str.strip(), #C\n",
    "                                                                             np.where((df['CHAR_VALUE_C'].notna()) & (df['CHAR_VALUE_C']=='Medical'), 'Other Medical', None))))))) #C"
   ]
  },
  {
   "cell_type": "code",
   "execution_count": 11,
   "metadata": {},
   "outputs": [
    {
     "data": {
      "application/vnd.microsoft.datawrangler.viewer.v0+json": {
       "columns": [
        {
         "name": "PROD_CAT",
         "rawType": "object",
         "type": "string"
        },
        {
         "name": "count",
         "rawType": "int64",
         "type": "integer"
        }
       ],
       "ref": "6dc1099b-65d4-4908-8da8-7f9d594f428c",
       "rows": [
        [
         "Cat 3",
         "360331"
        ],
        [
         "Cat 2",
         "123756"
        ],
        [
         "Cat 1",
         "11767"
        ]
       ],
       "shape": {
        "columns": 1,
        "rows": 3
       }
      },
      "text/plain": [
       "PROD_CAT\n",
       "Cat 3    360331\n",
       "Cat 2    123756\n",
       "Cat 1     11767\n",
       "Name: count, dtype: int64"
      ]
     },
     "execution_count": 11,
     "metadata": {},
     "output_type": "execute_result"
    }
   ],
   "source": [
    "#Fill PROD_CAT based on the product_category sql logic\n",
    "df['PROD_CAT'] = np.where(df['PROD_CAT'].notna(),\n",
    "                               df['PROD_CAT'], \n",
    "                               np.where((df['PROD_SUBCAT_IND_1'] == 1) & ((df['PROD_SUBCAT_IND_2'] == 1) | df['MAIN_NEED'].isin(['Medical','Other Medical','Critical Illness'])),\n",
    "                                        'Cat 2',\n",
    "                                        'Cat 3'))\n",
    "df['PROD_CAT'].value_counts()"
   ]
  },
  {
   "cell_type": "code",
   "execution_count": 19,
   "metadata": {},
   "outputs": [
    {
     "name": "stdout",
     "output_type": "stream",
     "text": [
      "<class 'pandas.core.frame.DataFrame'>\n",
      "RangeIndex: 495854 entries, 0 to 495853\n",
      "Data columns (total 14 columns):\n",
      " #   Column             Non-Null Count   Dtype  \n",
      "---  ------             --------------   -----  \n",
      " 0   POLICY_NO          495854 non-null  int64  \n",
      " 1   AGT_CD             495854 non-null  int64  \n",
      " 2   S_BASE             495854 non-null  object \n",
      " 3   RIDER_CD           479533 non-null  float64\n",
      " 4   COVERAGE_TYPE_IND  495854 non-null  object \n",
      " 5   INS_UNIQUE_ID      495854 non-null  object \n",
      " 6   PURCHASE_DT        495854 non-null  object \n",
      " 7   PROD_CAT           495854 non-null  object \n",
      " 8   PURPOSE_CODE       495854 non-null  object \n",
      " 9   ANP_RIDER          495854 non-null  float64\n",
      " 10  VIT_MBR_IND        495854 non-null  int64  \n",
      " 11  PROD_SUBCAT_IND_1  495854 non-null  int64  \n",
      " 12  PROD_SUBCAT_IND_2  495854 non-null  int64  \n",
      " 13  MAIN_NEED          495854 non-null  object \n",
      "dtypes: float64(2), int64(5), object(7)\n",
      "memory usage: 53.0+ MB\n"
     ]
    }
   ],
   "source": [
    "df = df.drop(columns = ['CHAR_VALUE_B',\n",
    "                                  'CHAR_VALUE_C',\n",
    "                                  'CHAR_VALUE_D',\n",
    "                                  'CHAR_VALUE_E',\n",
    "                                  'CHAR_VALUE2_B',\n",
    "                                  'CHAR_VALUE2_D'])\n",
    "df.info()"
   ]
  },
  {
   "cell_type": "markdown",
   "metadata": {},
   "source": [
    "## EDA"
   ]
  },
  {
   "cell_type": "markdown",
   "metadata": {},
   "source": [
    "Questions To be Asked Regarding Data\n",
    "\n",
    "1. Does All Rider will have the same portfolio with the basic policy.\n",
    "2. Does Purchase Date of the same policy are the same or it can be different (rider for other date)\n",
    "3. What does ANP meaning\n",
    "4. Does Every Agent has their own specific Portfolio or they can sell any of it\n",
    "5. Does ANP only for certain_product\n",
    "6. Distribution of date purchase of each agent"
   ]
  },
  {
   "cell_type": "code",
   "execution_count": 20,
   "metadata": {},
   "outputs": [
    {
     "data": {
      "text/plain": [
       "125059"
      ]
     },
     "execution_count": 20,
     "metadata": {},
     "output_type": "execute_result"
    }
   ],
   "source": [
    "df['POLICY_NO'].nunique()"
   ]
  },
  {
   "cell_type": "code",
   "execution_count": 53,
   "metadata": {},
   "outputs": [
    {
     "name": "stdout",
     "output_type": "stream",
     "text": [
      "2019-01-01 2030-07-31\n"
     ]
    }
   ],
   "source": [
    "#Get the overall timeline of the data\n",
    "print(df['PURCHASE_DT'].min(), df['PURCHASE_DT'].max())"
   ]
  },
  {
   "cell_type": "markdown",
   "metadata": {},
   "source": [
    "There are error in the data as it shows year of 2030"
   ]
  },
  {
   "cell_type": "code",
   "execution_count": 55,
   "metadata": {},
   "outputs": [
    {
     "name": "stdout",
     "output_type": "stream",
     "text": [
      "                                    PURCHASE_DT\n",
      "POLICY_NO                                      \n",
      "191        [2019-06-27, 2020-08-27, 2020-06-27]\n",
      "270                    [2020-07-26, 2021-02-26]\n",
      "597                    [2019-06-24, 2021-02-24]\n",
      "700                    [2020-02-22, 2019-11-22]\n",
      "889                    [2020-05-22, 2019-11-22]\n",
      "...                                         ...\n",
      "516504                 [2020-05-15, 2019-05-15]\n",
      "519794                 [2019-11-07, 2020-05-07]\n",
      "525845                 [2020-06-30, 2019-06-30]\n",
      "542538                 [2020-04-23, 2019-04-23]\n",
      "555525                 [2019-07-31, 2020-07-31]\n",
      "\n",
      "[980 rows x 1 columns]\n"
     ]
    }
   ],
   "source": [
    "#Lets check if there are policy has different date with the basic policy\n",
    "policy_date = df.groupby(['POLICY_NO']).agg({'PURCHASE_DT' : 'unique'})\n",
    "multiple_datee = policy_date[policy_date['PURCHASE_DT'].apply(len) > 1]\n",
    "print(multiple_datee)"
   ]
  },
  {
   "cell_type": "markdown",
   "metadata": {},
   "source": [
    "It means Rider can be bought in a different time from the basic policy"
   ]
  },
  {
   "cell_type": "code",
   "execution_count": 66,
   "metadata": {},
   "outputs": [
    {
     "data": {
      "application/vnd.microsoft.datawrangler.viewer.v0+json": {
       "columns": [
        {
         "name": "index",
         "rawType": "int64",
         "type": "integer"
        },
        {
         "name": "POLICY_NO",
         "rawType": "int64",
         "type": "integer"
        },
        {
         "name": "AGT_CD",
         "rawType": "int64",
         "type": "integer"
        },
        {
         "name": "S_BASE",
         "rawType": "object",
         "type": "string"
        },
        {
         "name": "RIDER_CD",
         "rawType": "float64",
         "type": "float"
        },
        {
         "name": "COVERAGE_TYPE_IND",
         "rawType": "object",
         "type": "string"
        },
        {
         "name": "INS_UNIQUE_ID",
         "rawType": "object",
         "type": "string"
        },
        {
         "name": "PURCHASE_DT",
         "rawType": "datetime64[ns]",
         "type": "datetime"
        },
        {
         "name": "PROD_CAT",
         "rawType": "object",
         "type": "string"
        },
        {
         "name": "PURPOSE_CODE",
         "rawType": "object",
         "type": "string"
        },
        {
         "name": "ANP_RIDER",
         "rawType": "float64",
         "type": "float"
        },
        {
         "name": "VIT_MBR_IND",
         "rawType": "int64",
         "type": "integer"
        },
        {
         "name": "PROD_SUBCAT_IND_1",
         "rawType": "int64",
         "type": "integer"
        },
        {
         "name": "PROD_SUBCAT_IND_2",
         "rawType": "int64",
         "type": "integer"
        },
        {
         "name": "MAIN_NEED",
         "rawType": "object",
         "type": "string"
        }
       ],
       "ref": "77174a43-721a-4f9d-b7fd-e606d46805f7",
       "rows": [
        [
         "141557",
         "47644",
         "102",
         "LA",
         "10300.0",
         "R",
         "P005020208",
         "2030-07-31 00:00:00",
         "Cat 3",
         "RGT1",
         "0.0",
         "0",
         "1",
         "0",
         "Savers"
        ],
        [
         "310350",
         "201604",
         "1448",
         "LA",
         "10300.0",
         "R",
         "P000562216",
         "2030-07-06 00:00:00",
         "Cat 3",
         "RGT1",
         "0.0",
         "1",
         "1",
         "0",
         "Savers"
        ],
        [
         "310515",
         "309404",
         "1448",
         "LA",
         "10300.0",
         "R",
         "P004507014",
         "2030-07-29 00:00:00",
         "Cat 3",
         "RGT1",
         "0.0",
         "1",
         "1",
         "0",
         "Savers"
        ],
        [
         "358968",
         "143909",
         "1515",
         "LA",
         "10300.0",
         "R",
         "P004768393",
         "2030-06-22 00:00:00",
         "Cat 3",
         "RGT1",
         "0.0",
         "1",
         "1",
         "0",
         "Savers"
        ],
        [
         "358991",
         "201589",
         "1515",
         "LA",
         "10300.0",
         "R",
         "P000975859",
         "2030-06-01 00:00:00",
         "Cat 3",
         "RGT1",
         "0.0",
         "1",
         "1",
         "0",
         "Savers"
        ],
        [
         "477473",
         "89979",
         "3524",
         "LA",
         "10300.0",
         "R",
         "P001349387",
         "2030-06-14 00:00:00",
         "Cat 3",
         "RGT1",
         "0.0",
         "1",
         "1",
         "0",
         "Savers"
        ]
       ],
       "shape": {
        "columns": 14,
        "rows": 6
       }
      },
      "text/html": [
       "<div>\n",
       "<style scoped>\n",
       "    .dataframe tbody tr th:only-of-type {\n",
       "        vertical-align: middle;\n",
       "    }\n",
       "\n",
       "    .dataframe tbody tr th {\n",
       "        vertical-align: top;\n",
       "    }\n",
       "\n",
       "    .dataframe thead th {\n",
       "        text-align: right;\n",
       "    }\n",
       "</style>\n",
       "<table border=\"1\" class=\"dataframe\">\n",
       "  <thead>\n",
       "    <tr style=\"text-align: right;\">\n",
       "      <th></th>\n",
       "      <th>POLICY_NO</th>\n",
       "      <th>AGT_CD</th>\n",
       "      <th>S_BASE</th>\n",
       "      <th>RIDER_CD</th>\n",
       "      <th>COVERAGE_TYPE_IND</th>\n",
       "      <th>INS_UNIQUE_ID</th>\n",
       "      <th>PURCHASE_DT</th>\n",
       "      <th>PROD_CAT</th>\n",
       "      <th>PURPOSE_CODE</th>\n",
       "      <th>ANP_RIDER</th>\n",
       "      <th>VIT_MBR_IND</th>\n",
       "      <th>PROD_SUBCAT_IND_1</th>\n",
       "      <th>PROD_SUBCAT_IND_2</th>\n",
       "      <th>MAIN_NEED</th>\n",
       "    </tr>\n",
       "  </thead>\n",
       "  <tbody>\n",
       "    <tr>\n",
       "      <th>141557</th>\n",
       "      <td>47644</td>\n",
       "      <td>102</td>\n",
       "      <td>LA</td>\n",
       "      <td>10300.0</td>\n",
       "      <td>R</td>\n",
       "      <td>P005020208</td>\n",
       "      <td>2030-07-31</td>\n",
       "      <td>Cat 3</td>\n",
       "      <td>RGT1</td>\n",
       "      <td>0.0</td>\n",
       "      <td>0</td>\n",
       "      <td>1</td>\n",
       "      <td>0</td>\n",
       "      <td>Savers</td>\n",
       "    </tr>\n",
       "    <tr>\n",
       "      <th>310350</th>\n",
       "      <td>201604</td>\n",
       "      <td>1448</td>\n",
       "      <td>LA</td>\n",
       "      <td>10300.0</td>\n",
       "      <td>R</td>\n",
       "      <td>P000562216</td>\n",
       "      <td>2030-07-06</td>\n",
       "      <td>Cat 3</td>\n",
       "      <td>RGT1</td>\n",
       "      <td>0.0</td>\n",
       "      <td>1</td>\n",
       "      <td>1</td>\n",
       "      <td>0</td>\n",
       "      <td>Savers</td>\n",
       "    </tr>\n",
       "    <tr>\n",
       "      <th>310515</th>\n",
       "      <td>309404</td>\n",
       "      <td>1448</td>\n",
       "      <td>LA</td>\n",
       "      <td>10300.0</td>\n",
       "      <td>R</td>\n",
       "      <td>P004507014</td>\n",
       "      <td>2030-07-29</td>\n",
       "      <td>Cat 3</td>\n",
       "      <td>RGT1</td>\n",
       "      <td>0.0</td>\n",
       "      <td>1</td>\n",
       "      <td>1</td>\n",
       "      <td>0</td>\n",
       "      <td>Savers</td>\n",
       "    </tr>\n",
       "    <tr>\n",
       "      <th>358968</th>\n",
       "      <td>143909</td>\n",
       "      <td>1515</td>\n",
       "      <td>LA</td>\n",
       "      <td>10300.0</td>\n",
       "      <td>R</td>\n",
       "      <td>P004768393</td>\n",
       "      <td>2030-06-22</td>\n",
       "      <td>Cat 3</td>\n",
       "      <td>RGT1</td>\n",
       "      <td>0.0</td>\n",
       "      <td>1</td>\n",
       "      <td>1</td>\n",
       "      <td>0</td>\n",
       "      <td>Savers</td>\n",
       "    </tr>\n",
       "    <tr>\n",
       "      <th>358991</th>\n",
       "      <td>201589</td>\n",
       "      <td>1515</td>\n",
       "      <td>LA</td>\n",
       "      <td>10300.0</td>\n",
       "      <td>R</td>\n",
       "      <td>P000975859</td>\n",
       "      <td>2030-06-01</td>\n",
       "      <td>Cat 3</td>\n",
       "      <td>RGT1</td>\n",
       "      <td>0.0</td>\n",
       "      <td>1</td>\n",
       "      <td>1</td>\n",
       "      <td>0</td>\n",
       "      <td>Savers</td>\n",
       "    </tr>\n",
       "    <tr>\n",
       "      <th>477473</th>\n",
       "      <td>89979</td>\n",
       "      <td>3524</td>\n",
       "      <td>LA</td>\n",
       "      <td>10300.0</td>\n",
       "      <td>R</td>\n",
       "      <td>P001349387</td>\n",
       "      <td>2030-06-14</td>\n",
       "      <td>Cat 3</td>\n",
       "      <td>RGT1</td>\n",
       "      <td>0.0</td>\n",
       "      <td>1</td>\n",
       "      <td>1</td>\n",
       "      <td>0</td>\n",
       "      <td>Savers</td>\n",
       "    </tr>\n",
       "  </tbody>\n",
       "</table>\n",
       "</div>"
      ],
      "text/plain": [
       "        POLICY_NO  AGT_CD S_BASE  RIDER_CD COVERAGE_TYPE_IND INS_UNIQUE_ID  \\\n",
       "141557      47644     102     LA   10300.0                 R    P005020208   \n",
       "310350     201604    1448     LA   10300.0                 R    P000562216   \n",
       "310515     309404    1448     LA   10300.0                 R    P004507014   \n",
       "358968     143909    1515     LA   10300.0                 R    P004768393   \n",
       "358991     201589    1515     LA   10300.0                 R    P000975859   \n",
       "477473      89979    3524     LA   10300.0                 R    P001349387   \n",
       "\n",
       "       PURCHASE_DT PROD_CAT PURPOSE_CODE  ANP_RIDER  VIT_MBR_IND  \\\n",
       "141557  2030-07-31    Cat 3         RGT1        0.0            0   \n",
       "310350  2030-07-06    Cat 3         RGT1        0.0            1   \n",
       "310515  2030-07-29    Cat 3         RGT1        0.0            1   \n",
       "358968  2030-06-22    Cat 3         RGT1        0.0            1   \n",
       "358991  2030-06-01    Cat 3         RGT1        0.0            1   \n",
       "477473  2030-06-14    Cat 3         RGT1        0.0            1   \n",
       "\n",
       "        PROD_SUBCAT_IND_1  PROD_SUBCAT_IND_2 MAIN_NEED  \n",
       "141557                  1                  0    Savers  \n",
       "310350                  1                  0    Savers  \n",
       "310515                  1                  0    Savers  \n",
       "358968                  1                  0    Savers  \n",
       "358991                  1                  0    Savers  \n",
       "477473                  1                  0    Savers  "
      ]
     },
     "execution_count": 66,
     "metadata": {},
     "output_type": "execute_result"
    }
   ],
   "source": [
    "df['PURCHASE_DT'] = pd.to_datetime(df['PURCHASE_DT'])\n",
    "df[df['PURCHASE_DT'].dt.year >2025]"
   ]
  },
  {
   "cell_type": "code",
   "execution_count": 69,
   "metadata": {},
   "outputs": [
    {
     "data": {
      "application/vnd.microsoft.datawrangler.viewer.v0+json": {
       "columns": [
        {
         "name": "index",
         "rawType": "int64",
         "type": "integer"
        },
        {
         "name": "POLICY_NO",
         "rawType": "int64",
         "type": "integer"
        },
        {
         "name": "AGT_CD",
         "rawType": "int64",
         "type": "integer"
        },
        {
         "name": "S_BASE",
         "rawType": "object",
         "type": "string"
        },
        {
         "name": "RIDER_CD",
         "rawType": "float64",
         "type": "float"
        },
        {
         "name": "COVERAGE_TYPE_IND",
         "rawType": "object",
         "type": "string"
        },
        {
         "name": "INS_UNIQUE_ID",
         "rawType": "object",
         "type": "string"
        },
        {
         "name": "PURCHASE_DT",
         "rawType": "datetime64[ns]",
         "type": "datetime"
        },
        {
         "name": "PROD_CAT",
         "rawType": "object",
         "type": "string"
        },
        {
         "name": "PURPOSE_CODE",
         "rawType": "object",
         "type": "string"
        },
        {
         "name": "ANP_RIDER",
         "rawType": "float64",
         "type": "float"
        },
        {
         "name": "VIT_MBR_IND",
         "rawType": "int64",
         "type": "integer"
        },
        {
         "name": "PROD_SUBCAT_IND_1",
         "rawType": "int64",
         "type": "integer"
        },
        {
         "name": "PROD_SUBCAT_IND_2",
         "rawType": "int64",
         "type": "integer"
        },
        {
         "name": "MAIN_NEED",
         "rawType": "object",
         "type": "string"
        }
       ],
       "ref": "b0da78b7-eded-4006-a830-75179e828b66",
       "rows": [
        [
         "141557",
         "47644",
         "102",
         "LA",
         "10300.0",
         "R",
         "P005020208",
         "2030-07-31 00:00:00",
         "Cat 3",
         "RGT1",
         "0.0",
         "0",
         "1",
         "0",
         "Savers"
        ],
        [
         "310350",
         "201604",
         "1448",
         "LA",
         "10300.0",
         "R",
         "P000562216",
         "2030-07-06 00:00:00",
         "Cat 3",
         "RGT1",
         "0.0",
         "1",
         "1",
         "0",
         "Savers"
        ],
        [
         "310515",
         "309404",
         "1448",
         "LA",
         "10300.0",
         "R",
         "P004507014",
         "2030-07-29 00:00:00",
         "Cat 3",
         "RGT1",
         "0.0",
         "1",
         "1",
         "0",
         "Savers"
        ],
        [
         "358968",
         "143909",
         "1515",
         "LA",
         "10300.0",
         "R",
         "P004768393",
         "2030-06-22 00:00:00",
         "Cat 3",
         "RGT1",
         "0.0",
         "1",
         "1",
         "0",
         "Savers"
        ],
        [
         "358991",
         "201589",
         "1515",
         "LA",
         "10300.0",
         "R",
         "P000975859",
         "2030-06-01 00:00:00",
         "Cat 3",
         "RGT1",
         "0.0",
         "1",
         "1",
         "0",
         "Savers"
        ],
        [
         "477473",
         "89979",
         "3524",
         "LA",
         "10300.0",
         "R",
         "P001349387",
         "2030-06-14 00:00:00",
         "Cat 3",
         "RGT1",
         "0.0",
         "1",
         "1",
         "0",
         "Savers"
        ]
       ],
       "shape": {
        "columns": 14,
        "rows": 6
       }
      },
      "text/html": [
       "<div>\n",
       "<style scoped>\n",
       "    .dataframe tbody tr th:only-of-type {\n",
       "        vertical-align: middle;\n",
       "    }\n",
       "\n",
       "    .dataframe tbody tr th {\n",
       "        vertical-align: top;\n",
       "    }\n",
       "\n",
       "    .dataframe thead th {\n",
       "        text-align: right;\n",
       "    }\n",
       "</style>\n",
       "<table border=\"1\" class=\"dataframe\">\n",
       "  <thead>\n",
       "    <tr style=\"text-align: right;\">\n",
       "      <th></th>\n",
       "      <th>POLICY_NO</th>\n",
       "      <th>AGT_CD</th>\n",
       "      <th>S_BASE</th>\n",
       "      <th>RIDER_CD</th>\n",
       "      <th>COVERAGE_TYPE_IND</th>\n",
       "      <th>INS_UNIQUE_ID</th>\n",
       "      <th>PURCHASE_DT</th>\n",
       "      <th>PROD_CAT</th>\n",
       "      <th>PURPOSE_CODE</th>\n",
       "      <th>ANP_RIDER</th>\n",
       "      <th>VIT_MBR_IND</th>\n",
       "      <th>PROD_SUBCAT_IND_1</th>\n",
       "      <th>PROD_SUBCAT_IND_2</th>\n",
       "      <th>MAIN_NEED</th>\n",
       "    </tr>\n",
       "  </thead>\n",
       "  <tbody>\n",
       "    <tr>\n",
       "      <th>141557</th>\n",
       "      <td>47644</td>\n",
       "      <td>102</td>\n",
       "      <td>LA</td>\n",
       "      <td>10300.0</td>\n",
       "      <td>R</td>\n",
       "      <td>P005020208</td>\n",
       "      <td>2030-07-31</td>\n",
       "      <td>Cat 3</td>\n",
       "      <td>RGT1</td>\n",
       "      <td>0.0</td>\n",
       "      <td>0</td>\n",
       "      <td>1</td>\n",
       "      <td>0</td>\n",
       "      <td>Savers</td>\n",
       "    </tr>\n",
       "    <tr>\n",
       "      <th>310350</th>\n",
       "      <td>201604</td>\n",
       "      <td>1448</td>\n",
       "      <td>LA</td>\n",
       "      <td>10300.0</td>\n",
       "      <td>R</td>\n",
       "      <td>P000562216</td>\n",
       "      <td>2030-07-06</td>\n",
       "      <td>Cat 3</td>\n",
       "      <td>RGT1</td>\n",
       "      <td>0.0</td>\n",
       "      <td>1</td>\n",
       "      <td>1</td>\n",
       "      <td>0</td>\n",
       "      <td>Savers</td>\n",
       "    </tr>\n",
       "    <tr>\n",
       "      <th>310515</th>\n",
       "      <td>309404</td>\n",
       "      <td>1448</td>\n",
       "      <td>LA</td>\n",
       "      <td>10300.0</td>\n",
       "      <td>R</td>\n",
       "      <td>P004507014</td>\n",
       "      <td>2030-07-29</td>\n",
       "      <td>Cat 3</td>\n",
       "      <td>RGT1</td>\n",
       "      <td>0.0</td>\n",
       "      <td>1</td>\n",
       "      <td>1</td>\n",
       "      <td>0</td>\n",
       "      <td>Savers</td>\n",
       "    </tr>\n",
       "    <tr>\n",
       "      <th>358968</th>\n",
       "      <td>143909</td>\n",
       "      <td>1515</td>\n",
       "      <td>LA</td>\n",
       "      <td>10300.0</td>\n",
       "      <td>R</td>\n",
       "      <td>P004768393</td>\n",
       "      <td>2030-06-22</td>\n",
       "      <td>Cat 3</td>\n",
       "      <td>RGT1</td>\n",
       "      <td>0.0</td>\n",
       "      <td>1</td>\n",
       "      <td>1</td>\n",
       "      <td>0</td>\n",
       "      <td>Savers</td>\n",
       "    </tr>\n",
       "    <tr>\n",
       "      <th>358991</th>\n",
       "      <td>201589</td>\n",
       "      <td>1515</td>\n",
       "      <td>LA</td>\n",
       "      <td>10300.0</td>\n",
       "      <td>R</td>\n",
       "      <td>P000975859</td>\n",
       "      <td>2030-06-01</td>\n",
       "      <td>Cat 3</td>\n",
       "      <td>RGT1</td>\n",
       "      <td>0.0</td>\n",
       "      <td>1</td>\n",
       "      <td>1</td>\n",
       "      <td>0</td>\n",
       "      <td>Savers</td>\n",
       "    </tr>\n",
       "    <tr>\n",
       "      <th>477473</th>\n",
       "      <td>89979</td>\n",
       "      <td>3524</td>\n",
       "      <td>LA</td>\n",
       "      <td>10300.0</td>\n",
       "      <td>R</td>\n",
       "      <td>P001349387</td>\n",
       "      <td>2030-06-14</td>\n",
       "      <td>Cat 3</td>\n",
       "      <td>RGT1</td>\n",
       "      <td>0.0</td>\n",
       "      <td>1</td>\n",
       "      <td>1</td>\n",
       "      <td>0</td>\n",
       "      <td>Savers</td>\n",
       "    </tr>\n",
       "  </tbody>\n",
       "</table>\n",
       "</div>"
      ],
      "text/plain": [
       "        POLICY_NO  AGT_CD S_BASE  RIDER_CD COVERAGE_TYPE_IND INS_UNIQUE_ID  \\\n",
       "141557      47644     102     LA   10300.0                 R    P005020208   \n",
       "310350     201604    1448     LA   10300.0                 R    P000562216   \n",
       "310515     309404    1448     LA   10300.0                 R    P004507014   \n",
       "358968     143909    1515     LA   10300.0                 R    P004768393   \n",
       "358991     201589    1515     LA   10300.0                 R    P000975859   \n",
       "477473      89979    3524     LA   10300.0                 R    P001349387   \n",
       "\n",
       "       PURCHASE_DT PROD_CAT PURPOSE_CODE  ANP_RIDER  VIT_MBR_IND  \\\n",
       "141557  2030-07-31    Cat 3         RGT1        0.0            0   \n",
       "310350  2030-07-06    Cat 3         RGT1        0.0            1   \n",
       "310515  2030-07-29    Cat 3         RGT1        0.0            1   \n",
       "358968  2030-06-22    Cat 3         RGT1        0.0            1   \n",
       "358991  2030-06-01    Cat 3         RGT1        0.0            1   \n",
       "477473  2030-06-14    Cat 3         RGT1        0.0            1   \n",
       "\n",
       "        PROD_SUBCAT_IND_1  PROD_SUBCAT_IND_2 MAIN_NEED  \n",
       "141557                  1                  0    Savers  \n",
       "310350                  1                  0    Savers  \n",
       "310515                  1                  0    Savers  \n",
       "358968                  1                  0    Savers  \n",
       "358991                  1                  0    Savers  \n",
       "477473                  1                  0    Savers  "
      ]
     },
     "execution_count": 69,
     "metadata": {},
     "output_type": "execute_result"
    }
   ],
   "source": [
    "df[df['PURPOSE_CODE']=='RGT1']"
   ]
  },
  {
   "cell_type": "markdown",
   "metadata": {},
   "source": [
    "The PURPOSE CODE RGT1 is where all of the policy has error in the purchase date. Since there are many possibilities whether its a has the same date as the basic policy or different we will just drop these data."
   ]
  },
  {
   "cell_type": "code",
   "execution_count": 70,
   "metadata": {},
   "outputs": [],
   "source": [
    "df = df[df['PURCHASE_DT'].dt.year <=2025]"
   ]
  },
  {
   "cell_type": "code",
   "execution_count": 72,
   "metadata": {},
   "outputs": [
    {
     "name": "stdout",
     "output_type": "stream",
     "text": [
      "2019-01-01 00:00:00 2025-03-10 00:00:00\n"
     ]
    }
   ],
   "source": [
    "print(df['PURCHASE_DT'].min(), df['PURCHASE_DT'].max())"
   ]
  },
  {
   "cell_type": "code",
   "execution_count": 22,
   "metadata": {},
   "outputs": [
    {
     "data": {
      "application/vnd.microsoft.datawrangler.viewer.v0+json": {
       "columns": [
        {
         "name": "S_BASE",
         "rawType": "object",
         "type": "string"
        },
        {
         "name": "count",
         "rawType": "int64",
         "type": "integer"
        }
       ],
       "ref": "6d20b181-6336-4a7a-83b8-07df0a373474",
       "rows": [
        [
         "LA",
         "74894"
        ],
        [
         "LAT",
         "33844"
        ],
        [
         "POLA",
         "16321"
        ]
       ],
       "shape": {
        "columns": 1,
        "rows": 3
       }
      },
      "text/plain": [
       "S_BASE\n",
       "LA      74894\n",
       "LAT     33844\n",
       "POLA    16321\n",
       "Name: count, dtype: int64"
      ]
     },
     "execution_count": 22,
     "metadata": {},
     "output_type": "execute_result"
    },
    {
     "data": {
      "image/png": "[encoded data removed]",
      "text/plain": [
       "<Figure size 640x480 with 1 Axes>"
      ]
     },
     "metadata": {},
     "output_type": "display_data"
    }
   ],
   "source": [
    "#get the distribution of the portfolio\n",
    "df.groupby(['POLICY_NO'])['S_BASE'].first().value_counts().plot(kind='bar')\n",
    "df.groupby(['POLICY_NO'])['S_BASE'].first().value_counts()"
   ]
  },
  {
   "cell_type": "code",
   "execution_count": 24,
   "metadata": {},
   "outputs": [
    {
     "data": {
      "text/plain": [
       "2.9654044543964173"
      ]
     },
     "execution_count": 24,
     "metadata": {},
     "output_type": "execute_result"
    }
   ],
   "source": [
    "370809/125045"
   ]
  },
  {
   "cell_type": "markdown",
   "metadata": {},
   "source": [
    "The number are making sense , since multiple riders can be with basic policy and the Ratio are almost 3:1 For Every Basic Policy there might be 3 Rider"
   ]
  },
  {
   "cell_type": "code",
   "execution_count": 86,
   "metadata": {},
   "outputs": [
    {
     "data": {
      "application/vnd.microsoft.datawrangler.viewer.v0+json": {
       "columns": [
        {
         "name": "AGT_CD",
         "rawType": "int64",
         "type": "integer"
        },
        {
         "name": "S_BASE",
         "rawType": "object",
         "type": "unknown"
        }
       ],
       "ref": "018eb9e1-6e45-4ca7-a023-170cb03c53e8",
       "rows": [
        [
         "1",
         "['LA']"
        ],
        [
         "2",
         "['LA']"
        ],
        [
         "3",
         "['LA' 'LAT']"
        ],
        [
         "4",
         "['LA']"
        ],
        [
         "5",
         "['LAT']"
        ],
        [
         "6",
         "['LAT']"
        ],
        [
         "7",
         "['LA']"
        ],
        [
         "8",
         "['LA' 'POLA']"
        ],
        [
         "9",
         "['LA']"
        ],
        [
         "10",
         "['LAT' 'LA' 'POLA']"
        ],
        [
         "12",
         "['LA']"
        ],
        [
         "13",
         "['LAT']"
        ],
        [
         "14",
         "['LAT']"
        ],
        [
         "15",
         "['LA' 'LAT' 'POLA']"
        ],
        [
         "16",
         "['LA' 'POLA']"
        ],
        [
         "17",
         "['LAT' 'LA']"
        ],
        [
         "18",
         "['LA']"
        ],
        [
         "19",
         "['LAT']"
        ],
        [
         "20",
         "['LAT']"
        ],
        [
         "21",
         "['LAT']"
        ],
        [
         "23",
         "['LAT']"
        ],
        [
         "24",
         "['LA']"
        ],
        [
         "25",
         "['LAT']"
        ],
        [
         "28",
         "['LAT' 'LA']"
        ],
        [
         "30",
         "['LA']"
        ],
        [
         "31",
         "['LAT']"
        ],
        [
         "34",
         "['LA' 'POLA']"
        ],
        [
         "35",
         "['LA']"
        ],
        [
         "36",
         "['LAT' 'LA']"
        ],
        [
         "37",
         "['LA' 'LAT']"
        ],
        [
         "38",
         "['LAT']"
        ],
        [
         "40",
         "['LA']"
        ],
        [
         "41",
         "['LAT']"
        ],
        [
         "42",
         "['LAT']"
        ],
        [
         "43",
         "['LA' 'POLA' 'LAT']"
        ],
        [
         "44",
         "['LA']"
        ],
        [
         "46",
         "['POLA' 'LA']"
        ],
        [
         "47",
         "['LA']"
        ],
        [
         "48",
         "['LAT' 'LA' 'POLA']"
        ],
        [
         "49",
         "['LA']"
        ],
        [
         "50",
         "['LA' 'POLA']"
        ],
        [
         "52",
         "['LA' 'POLA']"
        ],
        [
         "53",
         "['LA']"
        ],
        [
         "56",
         "['LA' 'POLA']"
        ],
        [
         "59",
         "['LA']"
        ],
        [
         "62",
         "['LA']"
        ],
        [
         "66",
         "['LA' 'LAT']"
        ],
        [
         "69",
         "['LA']"
        ],
        [
         "71",
         "['LA']"
        ],
        [
         "73",
         "['LA']"
        ]
       ],
       "shape": {
        "columns": 1,
        "rows": 3231
       }
      },
      "text/html": [
       "<div>\n",
       "<style scoped>\n",
       "    .dataframe tbody tr th:only-of-type {\n",
       "        vertical-align: middle;\n",
       "    }\n",
       "\n",
       "    .dataframe tbody tr th {\n",
       "        vertical-align: top;\n",
       "    }\n",
       "\n",
       "    .dataframe thead th {\n",
       "        text-align: right;\n",
       "    }\n",
       "</style>\n",
       "<table border=\"1\" class=\"dataframe\">\n",
       "  <thead>\n",
       "    <tr style=\"text-align: right;\">\n",
       "      <th></th>\n",
       "      <th>S_BASE</th>\n",
       "    </tr>\n",
       "    <tr>\n",
       "      <th>AGT_CD</th>\n",
       "      <th></th>\n",
       "    </tr>\n",
       "  </thead>\n",
       "  <tbody>\n",
       "    <tr>\n",
       "      <th>1</th>\n",
       "      <td>[LA]</td>\n",
       "    </tr>\n",
       "    <tr>\n",
       "      <th>2</th>\n",
       "      <td>[LA]</td>\n",
       "    </tr>\n",
       "    <tr>\n",
       "      <th>3</th>\n",
       "      <td>[LA, LAT]</td>\n",
       "    </tr>\n",
       "    <tr>\n",
       "      <th>4</th>\n",
       "      <td>[LA]</td>\n",
       "    </tr>\n",
       "    <tr>\n",
       "      <th>5</th>\n",
       "      <td>[LAT]</td>\n",
       "    </tr>\n",
       "    <tr>\n",
       "      <th>...</th>\n",
       "      <td>...</td>\n",
       "    </tr>\n",
       "    <tr>\n",
       "      <th>4806</th>\n",
       "      <td>[LA]</td>\n",
       "    </tr>\n",
       "    <tr>\n",
       "      <th>4807</th>\n",
       "      <td>[POLA]</td>\n",
       "    </tr>\n",
       "    <tr>\n",
       "      <th>4808</th>\n",
       "      <td>[LA]</td>\n",
       "    </tr>\n",
       "    <tr>\n",
       "      <th>4809</th>\n",
       "      <td>[LAT]</td>\n",
       "    </tr>\n",
       "    <tr>\n",
       "      <th>4810</th>\n",
       "      <td>[LAT]</td>\n",
       "    </tr>\n",
       "  </tbody>\n",
       "</table>\n",
       "<p>3231 rows × 1 columns</p>\n",
       "</div>"
      ],
      "text/plain": [
       "           S_BASE\n",
       "AGT_CD           \n",
       "1            [LA]\n",
       "2            [LA]\n",
       "3       [LA, LAT]\n",
       "4            [LA]\n",
       "5           [LAT]\n",
       "...           ...\n",
       "4806         [LA]\n",
       "4807       [POLA]\n",
       "4808         [LA]\n",
       "4809        [LAT]\n",
       "4810        [LAT]\n",
       "\n",
       "[3231 rows x 1 columns]"
      ]
     },
     "execution_count": 86,
     "metadata": {},
     "output_type": "execute_result"
    }
   ],
   "source": [
    "#do agent can sell different portfolio\n",
    "df.groupby(['AGT_CD']).agg({'S_BASE': 'unique'})"
   ]
  },
  {
   "cell_type": "markdown",
   "metadata": {},
   "source": [
    "yes agent can sell different product from different portfolio"
   ]
  },
  {
   "cell_type": "code",
   "execution_count": 94,
   "metadata": {},
   "outputs": [
    {
     "data": {
      "application/vnd.microsoft.datawrangler.viewer.v0+json": {
       "columns": [
        {
         "name": "index",
         "rawType": "int64",
         "type": "integer"
        },
        {
         "name": "POLICY_NO",
         "rawType": "int64",
         "type": "integer"
        },
        {
         "name": "AGT_CD",
         "rawType": "int64",
         "type": "integer"
        },
        {
         "name": "S_BASE",
         "rawType": "object",
         "type": "string"
        },
        {
         "name": "RIDER_CD",
         "rawType": "float64",
         "type": "float"
        },
        {
         "name": "COVERAGE_TYPE_IND",
         "rawType": "object",
         "type": "string"
        },
        {
         "name": "INS_UNIQUE_ID",
         "rawType": "object",
         "type": "string"
        },
        {
         "name": "PURCHASE_DT",
         "rawType": "datetime64[ns]",
         "type": "datetime"
        },
        {
         "name": "PROD_CAT",
         "rawType": "object",
         "type": "string"
        },
        {
         "name": "PURPOSE_CODE",
         "rawType": "object",
         "type": "string"
        },
        {
         "name": "ANP_RIDER",
         "rawType": "float64",
         "type": "float"
        },
        {
         "name": "VIT_MBR_IND",
         "rawType": "int64",
         "type": "integer"
        },
        {
         "name": "PROD_SUBCAT_IND_1",
         "rawType": "int64",
         "type": "integer"
        },
        {
         "name": "PROD_SUBCAT_IND_2",
         "rawType": "int64",
         "type": "integer"
        },
        {
         "name": "MAIN_NEED",
         "rawType": "object",
         "type": "string"
        }
       ],
       "ref": "840172d1-4dea-4566-8f06-c283b9886d21",
       "rows": [
        [
         "109",
         "3",
         "1186",
         "LAT",
         "10200.0",
         "R",
         "P004313476",
         "2019-10-24 00:00:00",
         "Cat 3",
         "1EH7",
         "0.0",
         "1",
         "1",
         "0",
         "Savers"
        ],
        [
         "272",
         "31179",
         "1186",
         "LAT",
         "10200.0",
         "R",
         "P010394341",
         "2020-01-06 00:00:00",
         "Cat 3",
         "1EH8",
         "0.0",
         "1",
         "1",
         "0",
         "Savers"
        ],
        [
         "300",
         "38099",
         "1186",
         "LAT",
         "10200.0",
         "R",
         "P001779270",
         "2019-10-28 00:00:00",
         "Cat 3",
         "2EH8",
         "0.0",
         "0",
         "1",
         "0",
         "Savers"
        ],
        [
         "414",
         "111868",
         "1186",
         "LAT",
         "10200.0",
         "R",
         "P010192534",
         "2020-05-05 00:00:00",
         "Cat 3",
         "APSV",
         "0.0",
         "1",
         "1",
         "0",
         "Savers"
        ],
        [
         "866",
         "114371",
         "3642",
         "LA",
         "10200.0",
         "R",
         "P000257359",
         "2019-03-28 00:00:00",
         "Cat 3",
         "18ET",
         "0.0",
         "1",
         "1",
         "0",
         "Savers"
        ],
        [
         "1110",
         "57755",
         "1187",
         "LA",
         "10103.0",
         "R",
         "P007464902",
         "2020-08-09 00:00:00",
         "Cat 3",
         "RCC1",
         "0.0",
         "1",
         "0",
         "0",
         "Accident"
        ],
        [
         "1621",
         "66838",
         "3074",
         "LA",
         "10200.0",
         "R",
         "P000715334",
         "2019-11-28 00:00:00",
         "Cat 3",
         "17AS",
         "0.0",
         "0",
         "1",
         "0",
         "Savers"
        ],
        [
         "1751",
         "8799",
         "4215",
         "LAT",
         "10200.0",
         "R",
         "P001845035",
         "2019-08-28 00:00:00",
         "Cat 3",
         "1EH7",
         "0.0",
         "0",
         "1",
         "0",
         "Savers"
        ],
        [
         "2578",
         "74902",
         "3643",
         "LAT",
         "10200.0",
         "R",
         "P010191475",
         "2019-06-23 00:00:00",
         "Cat 3",
         "1EH7",
         "0.0",
         "0",
         "1",
         "0",
         "Savers"
        ],
        [
         "2777",
         "3532",
         "583",
         "LA",
         "10600.0",
         "R",
         "P010006569",
         "2019-10-17 00:00:00",
         "Cat 3",
         "ALL3",
         "0.0",
         "0",
         "1",
         "0",
         "Life"
        ],
        [
         "3066",
         "7006",
         "583",
         "LA",
         "10200.0",
         "R",
         "P005912127",
         "2019-02-28 00:00:00",
         "Cat 3",
         "APS1",
         "0.0",
         "0",
         "1",
         "0",
         "Savers"
        ],
        [
         "3337",
         "9462",
         "583",
         "LA",
         "10500.0",
         "R",
         "P005486005",
         "2020-02-12 00:00:00",
         "Cat 3",
         "ALL3",
         "0.0",
         "1",
         "1",
         "0",
         "Life"
        ],
        [
         "3520",
         "12726",
         "583",
         "LA",
         "10105.0",
         "R",
         "P010336571",
         "2019-08-28 00:00:00",
         "Cat 3",
         "RCC2",
         "0.0",
         "0",
         "0",
         "0",
         "Accident"
        ],
        [
         "3554",
         "13104",
         "583",
         "LA",
         "10500.0",
         "R",
         "P001383879",
         "2021-01-25 00:00:00",
         "Cat 3",
         "ALL3",
         "0.0",
         "0",
         "1",
         "0",
         "Life"
        ],
        [
         "3643",
         "15827",
         "583",
         "LA",
         "10105.0",
         "R",
         "P010313276",
         "2019-07-17 00:00:00",
         "Cat 3",
         "RCC2",
         "0.0",
         "0",
         "0",
         "0",
         "Accident"
        ],
        [
         "3941",
         "20996",
         "583",
         "LA",
         "10105.0",
         "R",
         "P010459852",
         "2019-12-23 00:00:00",
         "Cat 3",
         "RCC2",
         "0.0",
         "0",
         "0",
         "0",
         "Accident"
        ],
        [
         "3973",
         "24954",
         "583",
         "LAT",
         "10300.0",
         "R",
         "P010686279",
         "2021-01-30 00:00:00",
         "Cat 3",
         "AIL3",
         "0.0",
         "0",
         "1",
         "0",
         "Life"
        ],
        [
         "4529",
         "60990",
         "583",
         "LAT",
         "10300.0",
         "R",
         "P010150109",
         "2021-03-08 00:00:00",
         "Cat 3",
         "AIL3",
         "0.0",
         "0",
         "1",
         "0",
         "Life"
        ],
        [
         "6038",
         "11522",
         "1188",
         "LAT",
         "10200.0",
         "R",
         "P010150292",
         "2019-04-03 00:00:00",
         "Cat 3",
         "1EH7",
         "0.0",
         "0",
         "1",
         "0",
         "Savers"
        ],
        [
         "6165",
         "116868",
         "1188",
         "LAT",
         "10200.0",
         "R",
         "P010403738",
         "2019-10-25 00:00:00",
         "Cat 3",
         "2EH8",
         "0.0",
         "1",
         "1",
         "0",
         "Savers"
        ],
        [
         "9250",
         "33574",
         "4220",
         "LA",
         "10200.0",
         "R",
         "P001045728",
         "2019-08-09 00:00:00",
         "Cat 3",
         "17AS",
         "0.0",
         "0",
         "1",
         "0",
         "Savers"
        ],
        [
         "9307",
         "60443",
         "4220",
         "LA",
         "10200.0",
         "R",
         "P000841650",
         "2019-04-15 00:00:00",
         "Cat 3",
         "57EH",
         "0.0",
         "0",
         "1",
         "0",
         "Savers"
        ],
        [
         "9601",
         "8546",
         "3078",
         "LA",
         "10200.0",
         "R",
         "P000285038",
         "2019-12-27 00:00:00",
         "Cat 3",
         "17AS",
         "0.0",
         "1",
         "1",
         "0",
         "Savers"
        ],
        [
         "11076",
         "8877",
         "586",
         "LAT",
         "10200.0",
         "R",
         "P010220084",
         "2019-11-08 00:00:00",
         "Cat 3",
         "1EH7",
         "0.0",
         "0",
         "1",
         "0",
         "Savers"
        ],
        [
         "11496",
         "1169",
         "587",
         "LA",
         "10200.0",
         "R",
         "P000816352",
         "2019-04-15 00:00:00",
         "Cat 3",
         "APS1",
         "0.0",
         "0",
         "1",
         "0",
         "Savers"
        ],
        [
         "11575",
         "21741",
         "587",
         "LA",
         "10200.0",
         "R",
         "P010510366",
         "2020-02-22 00:00:00",
         "Cat 3",
         "APS1",
         "0.0",
         "0",
         "1",
         "0",
         "Savers"
        ],
        [
         "11793",
         "2996",
         "588",
         "LA",
         "10200.0",
         "R",
         "P001149556",
         "2019-12-17 00:00:00",
         "Cat 3",
         "18SS",
         "0.0",
         "0",
         "1",
         "0",
         "Savers"
        ],
        [
         "12491",
         "96522",
         "589",
         "LA",
         "10105.0",
         "R",
         "P001698010",
         "2021-02-28 00:00:00",
         "Cat 3",
         "RCC1",
         "0.0",
         "0",
         "0",
         "0",
         "Accident"
        ],
        [
         "12713",
         "31842",
         "1189",
         "LA",
         "10200.0",
         "R",
         "P000454262",
         "2019-08-27 00:00:00",
         "Cat 3",
         "17AS",
         "0.0",
         "1",
         "1",
         "0",
         "Savers"
        ],
        [
         "12990",
         "6215",
         "3079",
         "LA",
         "10200.0",
         "R",
         "P000481741",
         "2019-12-20 00:00:00",
         "Cat 3",
         "17AS",
         "0.0",
         "0",
         "1",
         "0",
         "Savers"
        ],
        [
         "13675",
         "36386",
         "4223",
         "LA",
         "10104.0",
         "R",
         "P010362074",
         "2019-10-11 00:00:00",
         "Cat 3",
         "RCC1",
         "0.0",
         "0",
         "0",
         "0",
         "Accident"
        ],
        [
         "15520",
         "52599",
         "3653",
         "LAT",
         "10200.0",
         "R",
         "P010400164",
         "2019-10-22 00:00:00",
         "Cat 3",
         "1EH7",
         "0.0",
         "1",
         "1",
         "0",
         "Savers"
        ],
        [
         "16992",
         "83668",
         "1829",
         "POLA",
         null,
         "B",
         "P000673681",
         "2019-11-27 00:00:00",
         "Cat 3",
         "PFC",
         "0.0",
         "1",
         "0",
         "0",
         "Accident"
        ],
        [
         "17308",
         "17932",
         "3654",
         "LA",
         "10200.0",
         "R",
         "P000978739",
         "2019-01-16 00:00:00",
         "Cat 3",
         "APS1",
         "0.0",
         "1",
         "1",
         "0",
         "Savers"
        ],
        [
         "17654",
         "36117",
         "2460",
         "LA",
         "10200.0",
         "R",
         "P004838796",
         "2019-02-18 00:00:00",
         "Cat 3",
         "18ET",
         "0.0",
         "1",
         "1",
         "0",
         "Savers"
        ],
        [
         "18650",
         "5648",
         "1830",
         "LA",
         "10102.0",
         "R",
         "P010485728",
         "2020-01-31 00:00:00",
         "Cat 3",
         "RCC2",
         "0.0",
         "0",
         "0",
         "0",
         "Accident"
        ],
        [
         "18700",
         "30649",
         "1830",
         "LA",
         "10102.0",
         "R",
         "P002798071",
         "2020-01-31 00:00:00",
         "Cat 3",
         "RCC2",
         "0.0",
         "0",
         "0",
         "0",
         "Accident"
        ],
        [
         "18743",
         "37280",
         "1830",
         "LA",
         "10102.0",
         "R",
         "P010490710",
         "2020-01-31 00:00:00",
         "Cat 3",
         "RCC2",
         "0.0",
         "0",
         "0",
         "0",
         "Accident"
        ],
        [
         "18811",
         "109180",
         "1830",
         "LA",
         "10102.0",
         "R",
         "P010487010",
         "2020-01-31 00:00:00",
         "Cat 3",
         "RCC2",
         "0.0",
         "0",
         "0",
         "0",
         "Accident"
        ],
        [
         "18837",
         "79",
         "1831",
         "LAT",
         "10200.0",
         "R",
         "P010453673",
         "2019-12-28 00:00:00",
         "Cat 3",
         "1EH7",
         "0.0",
         "0",
         "1",
         "0",
         "Savers"
        ],
        [
         "18964",
         "38295",
         "1831",
         "LAT",
         "10200.0",
         "R",
         "P010431165",
         "2019-11-08 00:00:00",
         "Cat 3",
         "1EH7",
         "0.0",
         "1",
         "1",
         "0",
         "Savers"
        ],
        [
         "19025",
         "52661",
         "1831",
         "LAT",
         "10200.0",
         "R",
         "P010400967",
         "2019-10-28 00:00:00",
         "Cat 3",
         "1EH7",
         "0.0",
         "0",
         "1",
         "0",
         "Savers"
        ],
        [
         "19065",
         "82922",
         "1831",
         "LAT",
         "10200.0",
         "R",
         "P010453673",
         "2019-12-28 00:00:00",
         "Cat 3",
         "1EH7",
         "0.0",
         "0",
         "1",
         "0",
         "Savers"
        ],
        [
         "20280",
         "15609",
         "1193",
         "LA",
         "10106.0",
         "R",
         "P003437183",
         "2020-07-24 00:00:00",
         "Cat 3",
         "RCC2",
         "0.0",
         "0",
         "0",
         "0",
         "Accident"
        ],
        [
         "20285",
         "15611",
         "1193",
         "LA",
         "10107.0",
         "R",
         "P010313566",
         "2019-07-27 00:00:00",
         "Cat 3",
         "RCC2",
         "0.0",
         "0",
         "0",
         "0",
         "Accident"
        ],
        [
         "20295",
         "16425",
         "1193",
         "LA",
         "10107.0",
         "R",
         "P000633510",
         "2019-03-20 00:00:00",
         "Cat 3",
         "RCC2",
         "0.0",
         "0",
         "0",
         "0",
         "Accident"
        ],
        [
         "20337",
         "26640",
         "1193",
         "LA",
         "10107.0",
         "R",
         "P005228984",
         "2020-08-07 00:00:00",
         "Cat 3",
         "RCC2",
         "0.0",
         "0",
         "0",
         "0",
         "Accident"
        ],
        [
         "22023",
         "48646",
         "2463",
         "LA",
         "10200.0",
         "R",
         "P000249917",
         "2019-10-23 00:00:00",
         "Cat 3",
         "18AS",
         "0.0",
         "1",
         "1",
         "0",
         "Savers"
        ],
        [
         "22107",
         "80862",
         "2463",
         "LA",
         "10200.0",
         "R",
         "P000249917",
         "2019-10-23 00:00:00",
         "Cat 3",
         "18SS",
         "0.0",
         "1",
         "1",
         "0",
         "Savers"
        ],
        [
         "22299",
         "18192",
         "2464",
         "LAT",
         "10400.0",
         "R",
         "P010196661",
         "2021-02-04 00:00:00",
         "Cat 3",
         "AL70",
         "0.0",
         "1",
         "1",
         "0",
         "Life"
        ]
       ],
       "shape": {
        "columns": 14,
        "rows": 1294
       }
      },
      "text/html": [
       "<div>\n",
       "<style scoped>\n",
       "    .dataframe tbody tr th:only-of-type {\n",
       "        vertical-align: middle;\n",
       "    }\n",
       "\n",
       "    .dataframe tbody tr th {\n",
       "        vertical-align: top;\n",
       "    }\n",
       "\n",
       "    .dataframe thead th {\n",
       "        text-align: right;\n",
       "    }\n",
       "</style>\n",
       "<table border=\"1\" class=\"dataframe\">\n",
       "  <thead>\n",
       "    <tr style=\"text-align: right;\">\n",
       "      <th></th>\n",
       "      <th>POLICY_NO</th>\n",
       "      <th>AGT_CD</th>\n",
       "      <th>S_BASE</th>\n",
       "      <th>RIDER_CD</th>\n",
       "      <th>COVERAGE_TYPE_IND</th>\n",
       "      <th>INS_UNIQUE_ID</th>\n",
       "      <th>PURCHASE_DT</th>\n",
       "      <th>PROD_CAT</th>\n",
       "      <th>PURPOSE_CODE</th>\n",
       "      <th>ANP_RIDER</th>\n",
       "      <th>VIT_MBR_IND</th>\n",
       "      <th>PROD_SUBCAT_IND_1</th>\n",
       "      <th>PROD_SUBCAT_IND_2</th>\n",
       "      <th>MAIN_NEED</th>\n",
       "    </tr>\n",
       "  </thead>\n",
       "  <tbody>\n",
       "    <tr>\n",
       "      <th>109</th>\n",
       "      <td>3</td>\n",
       "      <td>1186</td>\n",
       "      <td>LAT</td>\n",
       "      <td>10200.0</td>\n",
       "      <td>R</td>\n",
       "      <td>P004313476</td>\n",
       "      <td>2019-10-24</td>\n",
       "      <td>Cat 3</td>\n",
       "      <td>1EH7</td>\n",
       "      <td>0.0</td>\n",
       "      <td>1</td>\n",
       "      <td>1</td>\n",
       "      <td>0</td>\n",
       "      <td>Savers</td>\n",
       "    </tr>\n",
       "    <tr>\n",
       "      <th>272</th>\n",
       "      <td>31179</td>\n",
       "      <td>1186</td>\n",
       "      <td>LAT</td>\n",
       "      <td>10200.0</td>\n",
       "      <td>R</td>\n",
       "      <td>P010394341</td>\n",
       "      <td>2020-01-06</td>\n",
       "      <td>Cat 3</td>\n",
       "      <td>1EH8</td>\n",
       "      <td>0.0</td>\n",
       "      <td>1</td>\n",
       "      <td>1</td>\n",
       "      <td>0</td>\n",
       "      <td>Savers</td>\n",
       "    </tr>\n",
       "    <tr>\n",
       "      <th>300</th>\n",
       "      <td>38099</td>\n",
       "      <td>1186</td>\n",
       "      <td>LAT</td>\n",
       "      <td>10200.0</td>\n",
       "      <td>R</td>\n",
       "      <td>P001779270</td>\n",
       "      <td>2019-10-28</td>\n",
       "      <td>Cat 3</td>\n",
       "      <td>2EH8</td>\n",
       "      <td>0.0</td>\n",
       "      <td>0</td>\n",
       "      <td>1</td>\n",
       "      <td>0</td>\n",
       "      <td>Savers</td>\n",
       "    </tr>\n",
       "    <tr>\n",
       "      <th>414</th>\n",
       "      <td>111868</td>\n",
       "      <td>1186</td>\n",
       "      <td>LAT</td>\n",
       "      <td>10200.0</td>\n",
       "      <td>R</td>\n",
       "      <td>P010192534</td>\n",
       "      <td>2020-05-05</td>\n",
       "      <td>Cat 3</td>\n",
       "      <td>APSV</td>\n",
       "      <td>0.0</td>\n",
       "      <td>1</td>\n",
       "      <td>1</td>\n",
       "      <td>0</td>\n",
       "      <td>Savers</td>\n",
       "    </tr>\n",
       "    <tr>\n",
       "      <th>866</th>\n",
       "      <td>114371</td>\n",
       "      <td>3642</td>\n",
       "      <td>LA</td>\n",
       "      <td>10200.0</td>\n",
       "      <td>R</td>\n",
       "      <td>P000257359</td>\n",
       "      <td>2019-03-28</td>\n",
       "      <td>Cat 3</td>\n",
       "      <td>18ET</td>\n",
       "      <td>0.0</td>\n",
       "      <td>1</td>\n",
       "      <td>1</td>\n",
       "      <td>0</td>\n",
       "      <td>Savers</td>\n",
       "    </tr>\n",
       "    <tr>\n",
       "      <th>...</th>\n",
       "      <td>...</td>\n",
       "      <td>...</td>\n",
       "      <td>...</td>\n",
       "      <td>...</td>\n",
       "      <td>...</td>\n",
       "      <td>...</td>\n",
       "      <td>...</td>\n",
       "      <td>...</td>\n",
       "      <td>...</td>\n",
       "      <td>...</td>\n",
       "      <td>...</td>\n",
       "      <td>...</td>\n",
       "      <td>...</td>\n",
       "      <td>...</td>\n",
       "    </tr>\n",
       "    <tr>\n",
       "      <th>491553</th>\n",
       "      <td>190573</td>\n",
       "      <td>1756</td>\n",
       "      <td>LA</td>\n",
       "      <td>10106.0</td>\n",
       "      <td>R</td>\n",
       "      <td>P010798070</td>\n",
       "      <td>2021-01-05</td>\n",
       "      <td>Cat 3</td>\n",
       "      <td>RCC2</td>\n",
       "      <td>0.0</td>\n",
       "      <td>0</td>\n",
       "      <td>0</td>\n",
       "      <td>0</td>\n",
       "      <td>Accident</td>\n",
       "    </tr>\n",
       "    <tr>\n",
       "      <th>491565</th>\n",
       "      <td>243772</td>\n",
       "      <td>1756</td>\n",
       "      <td>LA</td>\n",
       "      <td>10106.0</td>\n",
       "      <td>R</td>\n",
       "      <td>P002306805</td>\n",
       "      <td>2020-11-11</td>\n",
       "      <td>Cat 3</td>\n",
       "      <td>RCC2</td>\n",
       "      <td>0.0</td>\n",
       "      <td>0</td>\n",
       "      <td>0</td>\n",
       "      <td>0</td>\n",
       "      <td>Accident</td>\n",
       "    </tr>\n",
       "    <tr>\n",
       "      <th>491613</th>\n",
       "      <td>399400</td>\n",
       "      <td>1756</td>\n",
       "      <td>LA</td>\n",
       "      <td>10106.0</td>\n",
       "      <td>R</td>\n",
       "      <td>P005117395</td>\n",
       "      <td>2020-12-18</td>\n",
       "      <td>Cat 3</td>\n",
       "      <td>RCC2</td>\n",
       "      <td>0.0</td>\n",
       "      <td>0</td>\n",
       "      <td>0</td>\n",
       "      <td>0</td>\n",
       "      <td>Accident</td>\n",
       "    </tr>\n",
       "    <tr>\n",
       "      <th>492989</th>\n",
       "      <td>256483</td>\n",
       "      <td>4755</td>\n",
       "      <td>LA</td>\n",
       "      <td>10104.0</td>\n",
       "      <td>R</td>\n",
       "      <td>P010760186</td>\n",
       "      <td>2020-12-04</td>\n",
       "      <td>Cat 3</td>\n",
       "      <td>RCC2</td>\n",
       "      <td>0.0</td>\n",
       "      <td>0</td>\n",
       "      <td>0</td>\n",
       "      <td>0</td>\n",
       "      <td>Accident</td>\n",
       "    </tr>\n",
       "    <tr>\n",
       "      <th>495179</th>\n",
       "      <td>275624</td>\n",
       "      <td>4785</td>\n",
       "      <td>LA</td>\n",
       "      <td>10107.0</td>\n",
       "      <td>R</td>\n",
       "      <td>P004191075</td>\n",
       "      <td>2021-02-22</td>\n",
       "      <td>Cat 3</td>\n",
       "      <td>RCC2</td>\n",
       "      <td>0.0</td>\n",
       "      <td>0</td>\n",
       "      <td>0</td>\n",
       "      <td>0</td>\n",
       "      <td>Accident</td>\n",
       "    </tr>\n",
       "  </tbody>\n",
       "</table>\n",
       "<p>1294 rows × 14 columns</p>\n",
       "</div>"
      ],
      "text/plain": [
       "        POLICY_NO  AGT_CD S_BASE  RIDER_CD COVERAGE_TYPE_IND INS_UNIQUE_ID  \\\n",
       "109             3    1186    LAT   10200.0                 R    P004313476   \n",
       "272         31179    1186    LAT   10200.0                 R    P010394341   \n",
       "300         38099    1186    LAT   10200.0                 R    P001779270   \n",
       "414        111868    1186    LAT   10200.0                 R    P010192534   \n",
       "866        114371    3642     LA   10200.0                 R    P000257359   \n",
       "...           ...     ...    ...       ...               ...           ...   \n",
       "491553     190573    1756     LA   10106.0                 R    P010798070   \n",
       "491565     243772    1756     LA   10106.0                 R    P002306805   \n",
       "491613     399400    1756     LA   10106.0                 R    P005117395   \n",
       "492989     256483    4755     LA   10104.0                 R    P010760186   \n",
       "495179     275624    4785     LA   10107.0                 R    P004191075   \n",
       "\n",
       "       PURCHASE_DT PROD_CAT PURPOSE_CODE  ANP_RIDER  VIT_MBR_IND  \\\n",
       "109     2019-10-24    Cat 3         1EH7        0.0            1   \n",
       "272     2020-01-06    Cat 3         1EH8        0.0            1   \n",
       "300     2019-10-28    Cat 3         2EH8        0.0            0   \n",
       "414     2020-05-05    Cat 3         APSV        0.0            1   \n",
       "866     2019-03-28    Cat 3         18ET        0.0            1   \n",
       "...            ...      ...          ...        ...          ...   \n",
       "491553  2021-01-05    Cat 3         RCC2        0.0            0   \n",
       "491565  2020-11-11    Cat 3         RCC2        0.0            0   \n",
       "491613  2020-12-18    Cat 3         RCC2        0.0            0   \n",
       "492989  2020-12-04    Cat 3         RCC2        0.0            0   \n",
       "495179  2021-02-22    Cat 3         RCC2        0.0            0   \n",
       "\n",
       "        PROD_SUBCAT_IND_1  PROD_SUBCAT_IND_2 MAIN_NEED  \n",
       "109                     1                  0    Savers  \n",
       "272                     1                  0    Savers  \n",
       "300                     1                  0    Savers  \n",
       "414                     1                  0    Savers  \n",
       "866                     1                  0    Savers  \n",
       "...                   ...                ...       ...  \n",
       "491553                  0                  0  Accident  \n",
       "491565                  0                  0  Accident  \n",
       "491613                  0                  0  Accident  \n",
       "492989                  0                  0  Accident  \n",
       "495179                  0                  0  Accident  \n",
       "\n",
       "[1294 rows x 14 columns]"
      ]
     },
     "execution_count": 94,
     "metadata": {},
     "output_type": "execute_result"
    }
   ],
   "source": [
    "# Does ANP is just for a certain product?\n",
    "prod_code_anp = df[df['ANP_RIDER']>0]['PURPOSE_CODE'].unique().tolist()\n",
    "df[(df['PURPOSE_CODE'].isin(prod_code_anp)) & (df['ANP_RIDER'] == 0)]"
   ]
  },
  {
   "cell_type": "markdown",
   "metadata": {},
   "source": [
    "Nope the same Product code does not mean they have ANP."
   ]
  },
  {
   "cell_type": "code",
   "execution_count": 28,
   "metadata": {},
   "outputs": [
    {
     "data": {
      "application/vnd.microsoft.datawrangler.viewer.v0+json": {
       "columns": [
        {
         "name": "PROD_CAT",
         "rawType": "object",
         "type": "string"
        },
        {
         "name": "POLICY_NO",
         "rawType": "int64",
         "type": "integer"
        }
       ],
       "ref": "e80fa159-3ed0-4fd9-92ca-2b80498af4f1",
       "rows": [
        [
         "Cat 1",
         "11765"
        ],
        [
         "Cat 2",
         "61438"
        ],
        [
         "Cat 3",
         "101787"
        ]
       ],
       "shape": {
        "columns": 1,
        "rows": 3
       }
      },
      "text/plain": [
       "PROD_CAT\n",
       "Cat 1     11765\n",
       "Cat 2     61438\n",
       "Cat 3    101787\n",
       "Name: POLICY_NO, dtype: int64"
      ]
     },
     "execution_count": 28,
     "metadata": {},
     "output_type": "execute_result"
    },
    {
     "data": {
      "image/png": "[encoded data removed]",
      "text/plain": [
       "<Figure size 640x480 with 1 Axes>"
      ]
     },
     "metadata": {},
     "output_type": "display_data"
    }
   ],
   "source": [
    "# Question 1\n",
    "# What is the total number of policies sold by product categories?\n",
    "df.groupby(['PROD_CAT'])['POLICY_NO'].nunique().plot(kind='bar')\n",
    "df.groupby(['PROD_CAT'])['POLICY_NO'].nunique()"
   ]
  },
  {
   "cell_type": "code",
   "execution_count": 105,
   "metadata": {},
   "outputs": [
    {
     "data": {
      "text/plain": [
       "<Axes: ylabel='Frequency'>"
      ]
     },
     "execution_count": 105,
     "metadata": {},
     "output_type": "execute_result"
    },
    {
     "data": {
      "image/png": "[encoded data removed]",
      "text/plain": [
       "<Figure size 640x480 with 1 Axes>"
      ]
     },
     "metadata": {},
     "output_type": "display_data"
    }
   ],
   "source": [
    "# Agent Distribution on Notice Served\n",
    "date_df = df.groupby(['AGT_CD']).agg(\n",
    "    PURCHASE_DT_MIN=('PURCHASE_DT', 'min'),\n",
    "    PURCHASE_DT_MAX=('PURCHASE_DT', 'max')\n",
    ")\n",
    "date_df['MONTHS_DIFF'] = (\n",
    "    (date_df['PURCHASE_DT_MAX'].dt.year - date_df['PURCHASE_DT_MIN'].dt.year) * 12 + \n",
    "    (date_df['PURCHASE_DT_MAX'].dt.month - date_df['PURCHASE_DT_MIN'].dt.month)\n",
    ")\n",
    "date_df['MONTHS_DIFF'].plot(kind='hist',bins=50)"
   ]
  },
  {
   "cell_type": "markdown",
   "metadata": {},
   "source": [
    "Quite A lot of number are in the early stage and the mod is around 2 years+"
   ]
  },
  {
   "cell_type": "code",
   "execution_count": 110,
   "metadata": {},
   "outputs": [
    {
     "data": {
      "text/plain": [
       "<Axes: xlabel='LAST_YEAR'>"
      ]
     },
     "execution_count": 110,
     "metadata": {},
     "output_type": "execute_result"
    },
    {
     "data": {
      "image/png": "[encoded data removed]",
      "text/plain": [
       "<Figure size 640x480 with 1 Axes>"
      ]
     },
     "metadata": {},
     "output_type": "display_data"
    }
   ],
   "source": [
    "date_df['LAST_YEAR'] = date_df['PURCHASE_DT_MAX'].dt.year\n",
    "date_df['LAST_YEAR'].value_counts().sort_index().plot(kind='bar')"
   ]
  },
  {
   "cell_type": "markdown",
   "metadata": {},
   "source": [
    "Quite a lot of agent has a final selling date at 2021, meaning we cannot approach a very time sensitive approach."
   ]
  },
  {
   "cell_type": "code",
   "execution_count": 29,
   "metadata": {},
   "outputs": [
    {
     "data": {
      "application/vnd.microsoft.datawrangler.viewer.v0+json": {
       "columns": [
        {
         "name": "PROD_CAT",
         "rawType": "object",
         "type": "string"
        },
        {
         "name": "ANP_RIDER",
         "rawType": "float64",
         "type": "float"
        }
       ],
       "ref": "8b657723-b21b-4489-9e82-911f74dead9a",
       "rows": [
        [
         "Cat 1",
         "10232935.06"
        ],
        [
         "Cat 2",
         "5610835.0"
        ],
        [
         "Cat 3",
         "24963325.87"
        ]
       ],
       "shape": {
        "columns": 1,
        "rows": 3
       }
      },
      "text/plain": [
       "PROD_CAT\n",
       "Cat 1    10232935.06\n",
       "Cat 2     5610835.00\n",
       "Cat 3    24963325.87\n",
       "Name: ANP_RIDER, dtype: float64"
      ]
     },
     "execution_count": 29,
     "metadata": {},
     "output_type": "execute_result"
    },
    {
     "data": {
      "image/png": "[encoded data removed]",
      "text/plain": [
       "<Figure size 640x480 with 1 Axes>"
      ]
     },
     "metadata": {},
     "output_type": "display_data"
    }
   ],
   "source": [
    "# Question 1\n",
    "# What is the total ANP by categories?\n",
    "df.groupby(['PROD_CAT'])['ANP_RIDER'].sum().plot(kind='bar')\n",
    "df.groupby(['PROD_CAT'])['ANP_RIDER'].sum() "
   ]
  },
  {
   "cell_type": "code",
   "execution_count": 41,
   "metadata": {},
   "outputs": [
    {
     "data": {
      "application/vnd.microsoft.datawrangler.viewer.v0+json": {
       "columns": [
        {
         "name": "AGT_CD",
         "rawType": "int64",
         "type": "integer"
        },
        {
         "name": "VIT_MBR_IND",
         "rawType": "int64",
         "type": "integer"
        }
       ],
       "ref": "1323eefe-bf1b-4659-9471-458a2f977434",
       "rows": [
        [
         "1",
         "286"
        ],
        [
         "2",
         "9"
        ],
        [
         "3",
         "107"
        ],
        [
         "4",
         "699"
        ],
        [
         "5",
         "216"
        ],
        [
         "6",
         "38"
        ],
        [
         "7",
         "324"
        ],
        [
         "8",
         "345"
        ],
        [
         "9",
         "102"
        ],
        [
         "10",
         "916"
        ],
        [
         "12",
         "278"
        ],
        [
         "13",
         "312"
        ],
        [
         "14",
         "263"
        ],
        [
         "15",
         "502"
        ],
        [
         "16",
         "422"
        ],
        [
         "17",
         "285"
        ],
        [
         "18",
         "721"
        ],
        [
         "19",
         "142"
        ],
        [
         "20",
         "239"
        ],
        [
         "21",
         "22"
        ],
        [
         "23",
         "48"
        ],
        [
         "24",
         "185"
        ],
        [
         "25",
         "344"
        ],
        [
         "28",
         "180"
        ],
        [
         "30",
         "260"
        ],
        [
         "31",
         "107"
        ],
        [
         "34",
         "308"
        ],
        [
         "35",
         "63"
        ],
        [
         "36",
         "52"
        ],
        [
         "37",
         "125"
        ],
        [
         "38",
         "193"
        ],
        [
         "40",
         "129"
        ],
        [
         "41",
         "445"
        ],
        [
         "42",
         "21"
        ],
        [
         "43",
         "126"
        ],
        [
         "44",
         "230"
        ],
        [
         "46",
         "245"
        ],
        [
         "47",
         "84"
        ],
        [
         "48",
         "125"
        ],
        [
         "49",
         "167"
        ],
        [
         "50",
         "369"
        ],
        [
         "52",
         "97"
        ],
        [
         "53",
         "77"
        ],
        [
         "56",
         "119"
        ],
        [
         "59",
         "85"
        ],
        [
         "62",
         "23"
        ],
        [
         "66",
         "52"
        ],
        [
         "69",
         "149"
        ],
        [
         "71",
         "68"
        ],
        [
         "73",
         "181"
        ]
       ],
       "shape": {
        "columns": 1,
        "rows": 3025
       }
      },
      "text/html": [
       "<div>\n",
       "<style scoped>\n",
       "    .dataframe tbody tr th:only-of-type {\n",
       "        vertical-align: middle;\n",
       "    }\n",
       "\n",
       "    .dataframe tbody tr th {\n",
       "        vertical-align: top;\n",
       "    }\n",
       "\n",
       "    .dataframe thead th {\n",
       "        text-align: right;\n",
       "    }\n",
       "</style>\n",
       "<table border=\"1\" class=\"dataframe\">\n",
       "  <thead>\n",
       "    <tr style=\"text-align: right;\">\n",
       "      <th></th>\n",
       "      <th>VIT_MBR_IND</th>\n",
       "    </tr>\n",
       "    <tr>\n",
       "      <th>AGT_CD</th>\n",
       "      <th></th>\n",
       "    </tr>\n",
       "  </thead>\n",
       "  <tbody>\n",
       "    <tr>\n",
       "      <th>1</th>\n",
       "      <td>286</td>\n",
       "    </tr>\n",
       "    <tr>\n",
       "      <th>2</th>\n",
       "      <td>9</td>\n",
       "    </tr>\n",
       "    <tr>\n",
       "      <th>3</th>\n",
       "      <td>107</td>\n",
       "    </tr>\n",
       "    <tr>\n",
       "      <th>4</th>\n",
       "      <td>699</td>\n",
       "    </tr>\n",
       "    <tr>\n",
       "      <th>5</th>\n",
       "      <td>216</td>\n",
       "    </tr>\n",
       "    <tr>\n",
       "      <th>...</th>\n",
       "      <td>...</td>\n",
       "    </tr>\n",
       "    <tr>\n",
       "      <th>4792</th>\n",
       "      <td>5</td>\n",
       "    </tr>\n",
       "    <tr>\n",
       "      <th>4793</th>\n",
       "      <td>19</td>\n",
       "    </tr>\n",
       "    <tr>\n",
       "      <th>4794</th>\n",
       "      <td>6</td>\n",
       "    </tr>\n",
       "    <tr>\n",
       "      <th>4796</th>\n",
       "      <td>9</td>\n",
       "    </tr>\n",
       "    <tr>\n",
       "      <th>4801</th>\n",
       "      <td>6</td>\n",
       "    </tr>\n",
       "  </tbody>\n",
       "</table>\n",
       "<p>3025 rows × 1 columns</p>\n",
       "</div>"
      ],
      "text/plain": [
       "        VIT_MBR_IND\n",
       "AGT_CD             \n",
       "1               286\n",
       "2                 9\n",
       "3               107\n",
       "4               699\n",
       "5               216\n",
       "...             ...\n",
       "4792              5\n",
       "4793             19\n",
       "4794              6\n",
       "4796              9\n",
       "4801              6\n",
       "\n",
       "[3025 rows x 1 columns]"
      ]
     },
     "execution_count": 41,
     "metadata": {},
     "output_type": "execute_result"
    }
   ],
   "source": [
    "# Question 3\n",
    "#Number of agents who sold at least 5 Vitality attached policy.\n",
    "agent_vit_group = df.groupby(['AGT_CD']).agg({'VIT_MBR_IND' : 'count'})\n",
    "agent_vit_group[agent_vit_group['VIT_MBR_IND'] >= 5]"
   ]
  },
  {
   "cell_type": "code",
   "execution_count": 45,
   "metadata": {},
   "outputs": [
    {
     "data": {
      "application/vnd.microsoft.datawrangler.viewer.v0+json": {
       "columns": [
        {
         "name": "POLICY_NO",
         "rawType": "int64",
         "type": "integer"
        },
        {
         "name": "RIDER_CD",
         "rawType": "int64",
         "type": "integer"
        }
       ],
       "ref": "03622056-be0e-4229-b7cb-d4a587aee8c1",
       "rows": [
        [
         "1",
         "10"
        ],
        [
         "3",
         "3"
        ],
        [
         "8",
         "3"
        ],
        [
         "9",
         "6"
        ],
        [
         "11",
         "3"
        ],
        [
         "13",
         "9"
        ],
        [
         "14",
         "9"
        ],
        [
         "15",
         "8"
        ],
        [
         "17",
         "7"
        ],
        [
         "18",
         "6"
        ],
        [
         "19",
         "6"
        ],
        [
         "20",
         "8"
        ],
        [
         "21",
         "8"
        ],
        [
         "22",
         "10"
        ],
        [
         "23",
         "7"
        ],
        [
         "24",
         "7"
        ],
        [
         "25",
         "6"
        ],
        [
         "26",
         "10"
        ],
        [
         "27",
         "8"
        ],
        [
         "28",
         "7"
        ],
        [
         "29",
         "10"
        ],
        [
         "30",
         "6"
        ],
        [
         "31",
         "8"
        ],
        [
         "33",
         "6"
        ],
        [
         "36",
         "7"
        ],
        [
         "37",
         "7"
        ],
        [
         "38",
         "7"
        ],
        [
         "40",
         "6"
        ],
        [
         "45",
         "9"
        ],
        [
         "47",
         "7"
        ],
        [
         "48",
         "6"
        ],
        [
         "50",
         "5"
        ],
        [
         "52",
         "9"
        ],
        [
         "53",
         "9"
        ],
        [
         "54",
         "8"
        ],
        [
         "55",
         "4"
        ],
        [
         "56",
         "3"
        ],
        [
         "58",
         "10"
        ],
        [
         "59",
         "7"
        ],
        [
         "60",
         "8"
        ],
        [
         "62",
         "6"
        ],
        [
         "63",
         "8"
        ],
        [
         "64",
         "6"
        ],
        [
         "65",
         "7"
        ],
        [
         "66",
         "5"
        ],
        [
         "67",
         "6"
        ],
        [
         "68",
         "6"
        ],
        [
         "72",
         "6"
        ],
        [
         "73",
         "6"
        ],
        [
         "76",
         "9"
        ]
       ],
       "shape": {
        "columns": 1,
        "rows": 59046
       }
      },
      "text/html": [
       "<div>\n",
       "<style scoped>\n",
       "    .dataframe tbody tr th:only-of-type {\n",
       "        vertical-align: middle;\n",
       "    }\n",
       "\n",
       "    .dataframe tbody tr th {\n",
       "        vertical-align: top;\n",
       "    }\n",
       "\n",
       "    .dataframe thead th {\n",
       "        text-align: right;\n",
       "    }\n",
       "</style>\n",
       "<table border=\"1\" class=\"dataframe\">\n",
       "  <thead>\n",
       "    <tr style=\"text-align: right;\">\n",
       "      <th></th>\n",
       "      <th>RIDER_CD</th>\n",
       "    </tr>\n",
       "    <tr>\n",
       "      <th>POLICY_NO</th>\n",
       "      <th></th>\n",
       "    </tr>\n",
       "  </thead>\n",
       "  <tbody>\n",
       "    <tr>\n",
       "      <th>1</th>\n",
       "      <td>10</td>\n",
       "    </tr>\n",
       "    <tr>\n",
       "      <th>3</th>\n",
       "      <td>3</td>\n",
       "    </tr>\n",
       "    <tr>\n",
       "      <th>8</th>\n",
       "      <td>3</td>\n",
       "    </tr>\n",
       "    <tr>\n",
       "      <th>9</th>\n",
       "      <td>6</td>\n",
       "    </tr>\n",
       "    <tr>\n",
       "      <th>11</th>\n",
       "      <td>3</td>\n",
       "    </tr>\n",
       "    <tr>\n",
       "      <th>...</th>\n",
       "      <td>...</td>\n",
       "    </tr>\n",
       "    <tr>\n",
       "      <th>555571</th>\n",
       "      <td>3</td>\n",
       "    </tr>\n",
       "    <tr>\n",
       "      <th>556808</th>\n",
       "      <td>4</td>\n",
       "    </tr>\n",
       "    <tr>\n",
       "      <th>565910</th>\n",
       "      <td>3</td>\n",
       "    </tr>\n",
       "    <tr>\n",
       "      <th>574879</th>\n",
       "      <td>3</td>\n",
       "    </tr>\n",
       "    <tr>\n",
       "      <th>575366</th>\n",
       "      <td>3</td>\n",
       "    </tr>\n",
       "  </tbody>\n",
       "</table>\n",
       "<p>59046 rows × 1 columns</p>\n",
       "</div>"
      ],
      "text/plain": [
       "           RIDER_CD\n",
       "POLICY_NO          \n",
       "1                10\n",
       "3                 3\n",
       "8                 3\n",
       "9                 6\n",
       "11                3\n",
       "...             ...\n",
       "555571            3\n",
       "556808            4\n",
       "565910            3\n",
       "574879            3\n",
       "575366            3\n",
       "\n",
       "[59046 rows x 1 columns]"
      ]
     },
     "execution_count": 45,
     "metadata": {},
     "output_type": "execute_result"
    }
   ],
   "source": [
    "#Question 4\n",
    "#Number of policies with at least 3 riders attached.\n",
    "# Filter only Rider Policy\n",
    "df_rider = df[df['COVERAGE_TYPE_IND'] == 'R']\n",
    "df_rider_group = df_rider.groupby(['POLICY_NO']).agg({'RIDER_CD' : 'count'})\n",
    "df_rider_group[df_rider_group['RIDER_CD'] >= 3]"
   ]
  },
  {
   "cell_type": "markdown",
   "metadata": {},
   "source": [
    "## Data Transformation"
   ]
  },
  {
   "cell_type": "code",
   "execution_count": null,
   "metadata": {},
   "outputs": [],
   "source": [
    "#Possible Feature for agent persona (agent behaviour)\n",
    "\n",
    "## Overall\n",
    "#1 . Number of basic policies sold per agent\n",
    "#2 . Median/Average number of riders per basic policy\n",
    "\n",
    "\n",
    "## Tendency of Portfolio\n",
    "#3 . Ratio of LA/S_BASE\n",
    "#4 . Ratio of LAT/S_BASE\n",
    "#5 . Ratio of POLA/S_BASE\n",
    "\n",
    "## Tendency of Main Need\n",
    "#6 . Ratio Medical/MAIN_NEED\n",
    "#7 . Ratio Life/MAIN_NEED\n",
    "#8 . Ratio Disability/MAIN_NEED\n",
    "#9 . Ratio Savers/MAIN_NEED\n",
    "#10 . Ratio Payor_Waiver/MAIN_NEED\n",
    "#11 . Ratio Critical_Illness/MAIN_NEED\n",
    "#12 . Ratio Accident/MAIN_NEED\n",
    "#13. Ratio Income/MAIN_NEED\n",
    "#14 . Ratio Other_Medical/MAIN_NEED\n",
    "#15 . Ratio Endowment/MAIN_NEED\n",
    "\n",
    "#Time Sensitive Features\n",
    "#16 . Median/Average number of policies sold per month \n",
    "#17 . Median/Average number of policies sold per year\n",
    "#18 . Last Month/Last Year of purchase ## Not Using since we are looking at the agent persona throughout the years\n",
    "#19 . Duration of First Purchase to Last Purchase (Served Duration as Agent)"
   ]
  },
  {
   "cell_type": "code",
   "execution_count": null,
   "metadata": {},
   "outputs": [
    {
     "data": {
      "application/vnd.microsoft.datawrangler.viewer.v0+json": {
       "columns": [
        {
         "name": "AGT_CD",
         "rawType": "int64",
         "type": "integer"
        },
        {
         "name": "n_basic_policy",
         "rawType": "int64",
         "type": "integer"
        }
       ],
       "ref": "cb1bc5ce-f3b1-4da7-b082-4468b71ff3b4",
       "rows": [
        [
         "1",
         "56"
        ],
        [
         "2",
         "5"
        ],
        [
         "3",
         "45"
        ],
        [
         "4",
         "146"
        ],
        [
         "5",
         "61"
        ],
        [
         "6",
         "14"
        ],
        [
         "7",
         "59"
        ],
        [
         "8",
         "104"
        ],
        [
         "9",
         "16"
        ],
        [
         "10",
         "197"
        ],
        [
         "12",
         "47"
        ],
        [
         "13",
         "90"
        ],
        [
         "14",
         "77"
        ],
        [
         "15",
         "89"
        ],
        [
         "16",
         "99"
        ],
        [
         "17",
         "70"
        ],
        [
         "18",
         "130"
        ],
        [
         "19",
         "28"
        ],
        [
         "20",
         "36"
        ],
        [
         "21",
         "3"
        ],
        [
         "23",
         "9"
        ],
        [
         "24",
         "35"
        ],
        [
         "25",
         "73"
        ],
        [
         "28",
         "60"
        ],
        [
         "30",
         "30"
        ],
        [
         "31",
         "38"
        ],
        [
         "34",
         "70"
        ],
        [
         "35",
         "12"
        ],
        [
         "36",
         "20"
        ],
        [
         "37",
         "34"
        ],
        [
         "38",
         "41"
        ],
        [
         "40",
         "23"
        ],
        [
         "41",
         "198"
        ],
        [
         "42",
         "6"
        ],
        [
         "43",
         "45"
        ],
        [
         "44",
         "63"
        ],
        [
         "46",
         "61"
        ],
        [
         "47",
         "30"
        ],
        [
         "48",
         "35"
        ],
        [
         "49",
         "30"
        ],
        [
         "50",
         "82"
        ],
        [
         "52",
         "25"
        ],
        [
         "53",
         "24"
        ],
        [
         "56",
         "25"
        ],
        [
         "59",
         "19"
        ],
        [
         "62",
         "7"
        ],
        [
         "66",
         "15"
        ],
        [
         "69",
         "29"
        ],
        [
         "71",
         "12"
        ],
        [
         "73",
         "52"
        ]
       ],
       "shape": {
        "columns": 1,
        "rows": 3231
       }
      },
      "text/html": [
       "<div>\n",
       "<style scoped>\n",
       "    .dataframe tbody tr th:only-of-type {\n",
       "        vertical-align: middle;\n",
       "    }\n",
       "\n",
       "    .dataframe tbody tr th {\n",
       "        vertical-align: top;\n",
       "    }\n",
       "\n",
       "    .dataframe thead th {\n",
       "        text-align: right;\n",
       "    }\n",
       "</style>\n",
       "<table border=\"1\" class=\"dataframe\">\n",
       "  <thead>\n",
       "    <tr style=\"text-align: right;\">\n",
       "      <th></th>\n",
       "      <th>n_basic_policy</th>\n",
       "    </tr>\n",
       "    <tr>\n",
       "      <th>AGT_CD</th>\n",
       "      <th></th>\n",
       "    </tr>\n",
       "  </thead>\n",
       "  <tbody>\n",
       "    <tr>\n",
       "      <th>1</th>\n",
       "      <td>56</td>\n",
       "    </tr>\n",
       "    <tr>\n",
       "      <th>2</th>\n",
       "      <td>5</td>\n",
       "    </tr>\n",
       "    <tr>\n",
       "      <th>3</th>\n",
       "      <td>45</td>\n",
       "    </tr>\n",
       "    <tr>\n",
       "      <th>4</th>\n",
       "      <td>146</td>\n",
       "    </tr>\n",
       "    <tr>\n",
       "      <th>5</th>\n",
       "      <td>61</td>\n",
       "    </tr>\n",
       "    <tr>\n",
       "      <th>...</th>\n",
       "      <td>...</td>\n",
       "    </tr>\n",
       "    <tr>\n",
       "      <th>4806</th>\n",
       "      <td>1</td>\n",
       "    </tr>\n",
       "    <tr>\n",
       "      <th>4807</th>\n",
       "      <td>1</td>\n",
       "    </tr>\n",
       "    <tr>\n",
       "      <th>4808</th>\n",
       "      <td>1</td>\n",
       "    </tr>\n",
       "    <tr>\n",
       "      <th>4809</th>\n",
       "      <td>1</td>\n",
       "    </tr>\n",
       "    <tr>\n",
       "      <th>4810</th>\n",
       "      <td>1</td>\n",
       "    </tr>\n",
       "  </tbody>\n",
       "</table>\n",
       "<p>3231 rows × 1 columns</p>\n",
       "</div>"
      ],
      "text/plain": [
       "        n_basic_policy\n",
       "AGT_CD                \n",
       "1                   56\n",
       "2                    5\n",
       "3                   45\n",
       "4                  146\n",
       "5                   61\n",
       "...                ...\n",
       "4806                 1\n",
       "4807                 1\n",
       "4808                 1\n",
       "4809                 1\n",
       "4810                 1\n",
       "\n",
       "[3231 rows x 1 columns]"
      ]
     },
     "execution_count": 106,
     "metadata": {},
     "output_type": "execute_result"
    }
   ],
   "source": [
    "#Number of basic policies sold per agent\n",
    "agent_group_basic = df.groupby(['AGT_CD']).agg({\n",
    "'POLICY_NO': pd.Series.nunique})\n",
    "agent_group_basic .rename(columns = {'POLICY_NO':'n_basic_policy'})"
   ]
  },
  {
   "cell_type": "code",
   "execution_count": 124,
   "metadata": {},
   "outputs": [
    {
     "data": {
      "application/vnd.microsoft.datawrangler.viewer.v0+json": {
       "columns": [
        {
         "name": "index",
         "rawType": "int64",
         "type": "integer"
        },
        {
         "name": "AGT_CD",
         "rawType": "int64",
         "type": "integer"
        },
        {
         "name": "AVG_RIDERS_PER_POLICY",
         "rawType": "float64",
         "type": "float"
        }
       ],
       "ref": "a242a27f-7b0d-4538-b1ab-f54a3d2963c2",
       "rows": [
        [
         "0",
         "1",
         "4.339622641509434"
        ],
        [
         "1",
         "2",
         "1.0"
        ],
        [
         "2",
         "3",
         "1.5121951219512195"
        ],
        [
         "3",
         "4",
         "3.787671232876712"
        ],
        [
         "4",
         "5",
         "3.0392156862745097"
        ],
        [
         "5",
         "6",
         "3.4285714285714284"
        ],
        [
         "6",
         "7",
         "4.649122807017544"
        ],
        [
         "7",
         "8",
         "4.918367346938775"
        ],
        [
         "8",
         "9",
         "5.375"
        ],
        [
         "9",
         "10",
         "4.522012578616352"
        ],
        [
         "10",
         "12",
         "5.25"
        ],
        [
         "11",
         "13",
         "4.188679245283019"
        ],
        [
         "12",
         "14",
         "3.263157894736842"
        ],
        [
         "13",
         "15",
         "6.164179104477612"
        ],
        [
         "14",
         "16",
         "3.8452380952380953"
        ],
        [
         "15",
         "17",
         "3.706896551724138"
        ],
        [
         "16",
         "18",
         "4.728"
        ],
        [
         "17",
         "19",
         "5.181818181818182"
        ],
        [
         "18",
         "20",
         "6.151515151515151"
        ],
        [
         "19",
         "21",
         "6.333333333333333"
        ],
        [
         "20",
         "23",
         "4.333333333333333"
        ],
        [
         "21",
         "24",
         "4.545454545454546"
        ],
        [
         "22",
         "25",
         "3.985294117647059"
        ],
        [
         "23",
         "28",
         "3.2432432432432434"
        ],
        [
         "24",
         "30",
         "7.666666666666667"
        ],
        [
         "25",
         "31",
         "4.928571428571429"
        ],
        [
         "26",
         "34",
         "5.288888888888889"
        ],
        [
         "27",
         "35",
         "5.1"
        ],
        [
         "28",
         "36",
         "2.4615384615384617"
        ],
        [
         "29",
         "37",
         "3.3703703703703702"
        ],
        [
         "30",
         "38",
         "4.75"
        ],
        [
         "31",
         "40",
         "7.571428571428571"
        ],
        [
         "32",
         "41",
         "1.8296296296296297"
        ],
        [
         "33",
         "42",
         "3.0"
        ],
        [
         "34",
         "43",
         "4.764705882352941"
        ],
        [
         "35",
         "44",
         "2.783333333333333"
        ],
        [
         "36",
         "46",
         "3.9148936170212765"
        ],
        [
         "37",
         "47",
         "2.4545454545454546"
        ],
        [
         "38",
         "48",
         "2.8125"
        ],
        [
         "39",
         "49",
         "4.892857142857143"
        ],
        [
         "40",
         "50",
         "3.8783783783783785"
        ],
        [
         "41",
         "52",
         "3.4285714285714284"
        ],
        [
         "42",
         "53",
         "4.076923076923077"
        ],
        [
         "43",
         "56",
         "4.7"
        ],
        [
         "44",
         "59",
         "3.6666666666666665"
        ],
        [
         "45",
         "62",
         "2.2857142857142856"
        ],
        [
         "46",
         "66",
         "2.8461538461538463"
        ],
        [
         "47",
         "69",
         "4.137931034482759"
        ],
        [
         "48",
         "71",
         "4.666666666666667"
        ],
        [
         "49",
         "73",
         "2.8666666666666667"
        ]
       ],
       "shape": {
        "columns": 2,
        "rows": 3107
       }
      },
      "text/html": [
       "<div>\n",
       "<style scoped>\n",
       "    .dataframe tbody tr th:only-of-type {\n",
       "        vertical-align: middle;\n",
       "    }\n",
       "\n",
       "    .dataframe tbody tr th {\n",
       "        vertical-align: top;\n",
       "    }\n",
       "\n",
       "    .dataframe thead th {\n",
       "        text-align: right;\n",
       "    }\n",
       "</style>\n",
       "<table border=\"1\" class=\"dataframe\">\n",
       "  <thead>\n",
       "    <tr style=\"text-align: right;\">\n",
       "      <th></th>\n",
       "      <th>AGT_CD</th>\n",
       "      <th>AVG_RIDERS_PER_POLICY</th>\n",
       "    </tr>\n",
       "  </thead>\n",
       "  <tbody>\n",
       "    <tr>\n",
       "      <th>0</th>\n",
       "      <td>1</td>\n",
       "      <td>4.339623</td>\n",
       "    </tr>\n",
       "    <tr>\n",
       "      <th>1</th>\n",
       "      <td>2</td>\n",
       "      <td>1.000000</td>\n",
       "    </tr>\n",
       "    <tr>\n",
       "      <th>2</th>\n",
       "      <td>3</td>\n",
       "      <td>1.512195</td>\n",
       "    </tr>\n",
       "    <tr>\n",
       "      <th>3</th>\n",
       "      <td>4</td>\n",
       "      <td>3.787671</td>\n",
       "    </tr>\n",
       "    <tr>\n",
       "      <th>4</th>\n",
       "      <td>5</td>\n",
       "      <td>3.039216</td>\n",
       "    </tr>\n",
       "    <tr>\n",
       "      <th>...</th>\n",
       "      <td>...</td>\n",
       "      <td>...</td>\n",
       "    </tr>\n",
       "    <tr>\n",
       "      <th>3102</th>\n",
       "      <td>4794</td>\n",
       "      <td>5.000000</td>\n",
       "    </tr>\n",
       "    <tr>\n",
       "      <th>3103</th>\n",
       "      <td>4796</td>\n",
       "      <td>2.000000</td>\n",
       "    </tr>\n",
       "    <tr>\n",
       "      <th>3104</th>\n",
       "      <td>4801</td>\n",
       "      <td>1.500000</td>\n",
       "    </tr>\n",
       "    <tr>\n",
       "      <th>3105</th>\n",
       "      <td>4804</td>\n",
       "      <td>1.000000</td>\n",
       "    </tr>\n",
       "    <tr>\n",
       "      <th>3106</th>\n",
       "      <td>4806</td>\n",
       "      <td>1.000000</td>\n",
       "    </tr>\n",
       "  </tbody>\n",
       "</table>\n",
       "<p>3107 rows × 2 columns</p>\n",
       "</div>"
      ],
      "text/plain": [
       "      AGT_CD  AVG_RIDERS_PER_POLICY\n",
       "0          1               4.339623\n",
       "1          2               1.000000\n",
       "2          3               1.512195\n",
       "3          4               3.787671\n",
       "4          5               3.039216\n",
       "...      ...                    ...\n",
       "3102    4794               5.000000\n",
       "3103    4796               2.000000\n",
       "3104    4801               1.500000\n",
       "3105    4804               1.000000\n",
       "3106    4806               1.000000\n",
       "\n",
       "[3107 rows x 2 columns]"
      ]
     },
     "execution_count": 124,
     "metadata": {},
     "output_type": "execute_result"
    }
   ],
   "source": [
    "#Median/Average number of riders per basic policy\n",
    "riders_per_policy = df[df['COVERAGE_TYPE_IND'] == 'R'].groupby(['AGT_CD','POLICY_NO']).agg({\n",
    "'COVERAGE_TYPE_IND':'count'})\n",
    "riders_per_policy.rename(columns={'COVERAGE_TYPE_IND': 'RIDER_COUNT'}, inplace=True)\n",
    "avg_riders_per_agent = riders_per_policy.groupby('AGT_CD')['RIDER_COUNT'].mean().reset_index()\n",
    "avg_riders_per_agent.rename(columns={'RIDER_COUNT': 'AVG_RIDERS_PER_POLICY'}, inplace=True)\n",
    "avg_riders_per_agent"
   ]
  },
  {
   "cell_type": "code",
   "execution_count": null,
   "metadata": {},
   "outputs": [
    {
     "name": "stdout",
     "output_type": "stream",
     "text": [
      "Average number of riders per basic policy: 4.0288033203676745\n"
     ]
    }
   ],
   "source": []
  }
 ],
 "metadata": {
  "kernelspec": {
   "display_name": "aia-assesment",
   "language": "python",
   "name": "python3"
  },
  "language_info": {
   "codemirror_mode": {
    "name": "ipython",
    "version": 3
   },
   "file_extension": ".py",
   "mimetype": "text/x-python",
   "name": "python",
   "nbconvert_exporter": "python",
   "pygments_lexer": "ipython3",
   "version": "3.11.13"
  }
 },
 "nbformat": 4,
 "nbformat_minor": 2
}
